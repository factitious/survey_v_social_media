{
 "cells": [
  {
   "cell_type": "code",
   "execution_count": 1,
   "metadata": {},
   "outputs": [],
   "source": [
    "from reddit import RedditData,RedditSubmissions"
   ]
  },
  {
   "cell_type": "markdown",
   "metadata": {},
   "source": [
    "# Employment"
   ]
  },
  {
   "cell_type": "code",
   "execution_count": 2,
   "metadata": {},
   "outputs": [
    {
     "name": "stdout",
     "output_type": "stream",
     "text": [
      "Got week 0\n",
      "Exported week 0\n",
      "Got week 1\n",
      "Exported week 1\n",
      "Got week 2\n",
      "Exported week 2\n"
     ]
    },
    {
     "name": "stderr",
     "output_type": "stream",
     "text": [
      "/Users/munchausend/opt/anaconda3/envs/redditScrapper/lib/python3.7/site-packages/psaw/PushshiftAPI.py:192: UserWarning: Got non 200 code 525\n",
      "  warnings.warn(\"Got non 200 code %s\" % response.status_code)\n",
      "/Users/munchausend/opt/anaconda3/envs/redditScrapper/lib/python3.7/site-packages/psaw/PushshiftAPI.py:180: UserWarning: Unable to connect to pushshift.io. Retrying after backoff.\n",
      "  warnings.warn(\"Unable to connect to pushshift.io. Retrying after backoff.\")\n",
      "/Users/munchausend/opt/anaconda3/envs/redditScrapper/lib/python3.7/site-packages/psaw/PushshiftAPI.py:192: UserWarning: Got non 200 code 522\n",
      "  warnings.warn(\"Got non 200 code %s\" % response.status_code)\n"
     ]
    },
    {
     "name": "stdout",
     "output_type": "stream",
     "text": [
      "Got week 3\n",
      "Exported week 3\n"
     ]
    },
    {
     "name": "stderr",
     "output_type": "stream",
     "text": [
      "/Users/munchausend/opt/anaconda3/envs/redditScrapper/lib/python3.7/site-packages/psaw/PushshiftAPI.py:192: UserWarning: Got non 200 code 520\n",
      "  warnings.warn(\"Got non 200 code %s\" % response.status_code)\n"
     ]
    },
    {
     "name": "stdout",
     "output_type": "stream",
     "text": [
      "Got week 4\n",
      "Exported week 4\n",
      "Got week 5\n",
      "Exported week 5\n",
      "Got week 6\n",
      "Exported week 6\n",
      "Got week 7\n",
      "Exported week 7\n",
      "Got week 8\n",
      "Exported week 8\n",
      "Got week 9\n",
      "Exported week 9\n",
      "Got week 10\n",
      "Exported week 10\n",
      "Got week 11\n",
      "Exported week 11\n",
      "Got week 12\n",
      "Exported week 12\n",
      "Got week 13\n",
      "Exported week 13\n",
      "Got week 14\n",
      "Exported week 14\n",
      "Got week 15\n",
      "Exported week 15\n",
      "Got week 16\n",
      "Exported week 16\n",
      "Got week 17\n",
      "Exported week 17\n",
      "Got week 18\n",
      "Exported week 18\n",
      "Got week 19\n",
      "Exported week 19\n",
      "Got week 20\n",
      "Exported week 20\n",
      "Failed to get week #21\n",
      "Got week 22\n",
      "Exported week 22\n",
      "Got week 23\n",
      "Exported week 23\n",
      "Got week 24\n",
      "Exported week 24\n",
      "Got week 25\n",
      "Exported week 25\n",
      "Got week 26\n",
      "Exported week 26\n",
      "Got week 27\n",
      "Exported week 27\n",
      "Got week 28\n",
      "Exported week 28\n",
      "Got week 29\n",
      "Exported week 29\n",
      "Got week 30\n",
      "Exported week 30\n"
     ]
    }
   ],
   "source": [
    "# start_week = 0\n",
    "# end_week = 30\n",
    "\n",
    "# emp_submissions = RedditSubmissions('Employment')\n",
    "\n",
    "# for week_num in range(start_week, end_week+1,1):\n",
    "    \n",
    "#     try:\n",
    "#         emp_submissions.get_one_week(week_num)\n",
    "#         print(\"Got week {}\".format(week_num))\n",
    "#     except:\n",
    "#         print(\"Failed to get week #{}\".format(week_num))\n",
    "#         continue\n",
    "        \n",
    "#     emp_submissions.export_one_week()\n",
    "#     print(\"Exported week {}\".format(week_num))\n",
    "    "
   ]
  },
  {
   "cell_type": "code",
   "execution_count": 7,
   "metadata": {},
   "outputs": [],
   "source": [
    "emp_df, emp_logs = RedditData.load_all(\n",
    "    topic = 'Employment',\n",
    "    post_type = 'Submissions',\n",
    "    start_week = 0,\n",
    "    end_week = 30,\n",
    "    df_only = False)"
   ]
  },
  {
   "cell_type": "code",
   "execution_count": null,
   "metadata": {},
   "outputs": [],
   "source": []
  },
  {
   "cell_type": "markdown",
   "metadata": {},
   "source": [
    "# Vaccination"
   ]
  },
  {
   "cell_type": "code",
   "execution_count": 12,
   "metadata": {},
   "outputs": [],
   "source": [
    "# start_week = 0\n",
    "# end_week = 1 #30\n",
    "\n",
    "# vacc_submissions = RedditSubmissions('Vaccination')\n",
    "\n",
    "# for week_num in range(start_week, end_week+1,1):\n",
    "    \n",
    "#     try:\n",
    "#         vacc_submissions.get_one_week(week_num)\n",
    "#     except:\n",
    "#         print(\"Failed to get week #{}\".format(week_num))\n",
    "#         continue\n",
    "        \n",
    "#     vacc_submissions.export_one_week()\n",
    "    "
   ]
  }
 ],
 "metadata": {
  "kernelspec": {
   "display_name": "redditScrapper",
   "language": "python",
   "name": "redditscrapper"
  },
  "language_info": {
   "codemirror_mode": {
    "name": "ipython",
    "version": 3
   },
   "file_extension": ".py",
   "mimetype": "text/x-python",
   "name": "python",
   "nbconvert_exporter": "python",
   "pygments_lexer": "ipython3",
   "version": "3.7.10"
  }
 },
 "nbformat": 4,
 "nbformat_minor": 4
}
