{
 "cells": [
  {
   "cell_type": "code",
   "execution_count": 1,
   "metadata": {},
   "outputs": [],
   "source": [
    "import pandas as pd\n",
    "import json"
   ]
  },
  {
   "cell_type": "markdown",
   "metadata": {},
   "source": [
    "# Tests"
   ]
  },
  {
   "cell_type": "code",
   "execution_count": 1,
   "metadata": {},
   "outputs": [],
   "source": [
    "from reddit import RedditData, RedditSubmissions, RedditComments"
   ]
  },
  {
   "cell_type": "code",
   "execution_count": 2,
   "metadata": {},
   "outputs": [],
   "source": [
    "emp_submissions = RedditSubmissions('Employment')\n",
    "emp_submissions.get_one_week(0)\n",
    "emp_submissions.export_one_week()\n",
    "\n",
    "# Get ids to pass to RedditComments\n",
    "emp_sub_ids = emp_submissions.all_data[emp_submissions.current_week]['id']\n",
    "\n",
    "\n",
    "vacc_submissions = RedditSubmissions('Vaccination')\n",
    "vacc_submissions.get_one_week(0)\n",
    "vacc_submissions.export_one_week()\n",
    "\n",
    "# Get ids to pass to RedditComments\n",
    "vacc_sub_ids = vacc_submissions.all_data[vacc_submissions.current_week]['id']"
   ]
  },
  {
   "cell_type": "code",
   "execution_count": 3,
   "metadata": {},
   "outputs": [],
   "source": [
    "emp_comments_q = RedditComments('Employment')\n",
    "emp_comments_q.get_one_week(0)\n",
    "emp_comments_q.export_one_week()\n",
    "\n",
    "vacc_comments_q = RedditComments('Vaccination')\n",
    "vacc_comments_q.get_one_week(0)\n",
    "vacc_comments_q.export_one_week()"
   ]
  },
  {
   "cell_type": "code",
   "execution_count": 4,
   "metadata": {},
   "outputs": [],
   "source": [
    "emp_comments_sub = RedditComments('Employment', ids = emp_sub_ids)\n",
    "emp_comments_sub.get_one_week(0)\n",
    "emp_comments_sub.export_one_week()\n",
    "\n",
    "vacc_comments_sub = RedditComments('Vaccination', ids = vacc_sub_ids)\n",
    "vacc_comments_sub.get_one_week(0)\n",
    "vacc_comments_sub.export_one_week()"
   ]
  },
  {
   "cell_type": "code",
   "execution_count": 9,
   "metadata": {},
   "outputs": [],
   "source": [
    "df_vacc_sub, log__vacc_sub = RedditData.load_one_week(\n",
    "    topic = 'Vaccination', \n",
    "    week_num = 0,\n",
    "    post_type = 'SubComments',\n",
    "    df_only = False)"
   ]
  },
  {
   "cell_type": "code",
   "execution_count": 17,
   "metadata": {},
   "outputs": [],
   "source": [
    "comm_ids = df_vacc_sub['link_id']\n",
    "comm_ids = [x.split('_')[1] for x in comm_ids]\n",
    "sub_ids = df_load['id']"
   ]
  },
  {
   "cell_type": "code",
   "execution_count": 22,
   "metadata": {},
   "outputs": [
    {
     "data": {
      "text/plain": [
       "12909"
      ]
     },
     "execution_count": 22,
     "metadata": {},
     "output_type": "execute_result"
    }
   ],
   "source": [
    "len(sub_ids)"
   ]
  },
  {
   "cell_type": "code",
   "execution_count": 25,
   "metadata": {},
   "outputs": [
    {
     "data": {
      "text/plain": [
       "2939"
      ]
     },
     "execution_count": 25,
     "metadata": {},
     "output_type": "execute_result"
    }
   ],
   "source": [
    "import numpy as np\n",
    "len(np.unique(comm_ids))"
   ]
  },
  {
   "cell_type": "code",
   "execution_count": 20,
   "metadata": {},
   "outputs": [
    {
     "data": {
      "text/plain": [
       "False"
      ]
     },
     "execution_count": 20,
     "metadata": {},
     "output_type": "execute_result"
    }
   ],
   "source": [
    "# All the comm_ids in the sub_ids\n",
    "set(comm_ids) == set(sub_ids)"
   ]
  },
  {
   "cell_type": "code",
   "execution_count": 26,
   "metadata": {},
   "outputs": [
    {
     "data": {
      "text/plain": [
       "2880"
      ]
     },
     "execution_count": 26,
     "metadata": {},
     "output_type": "execute_result"
    }
   ],
   "source": [
    "len(set(comm_ids) - set(sub_ids))"
   ]
  },
  {
   "cell_type": "code",
   "execution_count": null,
   "metadata": {},
   "outputs": [],
   "source": [
    "# employment_submissions = RedditSubmissions('Employment')\n",
    "# start_week = 0\n",
    "# end_week = 2\n",
    "\n",
    "\n",
    "# for week_num in range(start_week, end_week+1,1):\n",
    "    \n",
    "#     try:\n",
    "#         employment_submissions.get_one_week(week_num)\n",
    "#     except:\n",
    "#         print(\"Failed to get week #{}\".format(week_num))\n",
    "#         continue\n",
    "        \n",
    "#     employment_submissions.export_one_week()\n",
    "    "
   ]
  }
 ],
 "metadata": {
  "kernelspec": {
   "display_name": "redditScrapper",
   "language": "python",
   "name": "redditscrapper"
  },
  "language_info": {
   "codemirror_mode": {
    "name": "ipython",
    "version": 3
   },
   "file_extension": ".py",
   "mimetype": "text/x-python",
   "name": "python",
   "nbconvert_exporter": "python",
   "pygments_lexer": "ipython3",
   "version": "3.7.10"
  }
 },
 "nbformat": 4,
 "nbformat_minor": 4
}
