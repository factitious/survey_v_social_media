{
 "cells": [
  {
   "cell_type": "markdown",
   "metadata": {},
   "source": [
    "# Testing queries"
   ]
  },
  {
   "cell_type": "code",
   "execution_count": null,
   "metadata": {},
   "outputs": [],
   "source": [
    "queries = dict()\n",
    "\n",
    "queries['employment'] = \n",
    "\n",
    "queries['vaccination'] = "
   ]
  },
  {
   "cell_type": "code",
   "execution_count": null,
   "metadata": {},
   "outputs": [],
   "source": [
    "class redditData():\n",
    "    '''\n",
    "    A class for holding all the Twitter search related elements, from validating credentials\n",
    "    to cleaning the data.\n",
    "    '''\n",
    "        \n",
    "    def __init__(self, main_path = '/Volumes/Survey_Social_Media_Compare/Methods/'):\n",
    "        '''\n",
    "        \n",
    "        '''\n",
    "        \n",
    "        self.main_path = main_path\n",
    "        \n",
    "    def build_query(self):\n",
    "        pass\n",
    "    \n",
    "    def get_data:\n",
    "        pass\n",
    "    \n",
    "    \n",
    "    \n",
    "    "
   ]
  }
 ],
 "metadata": {
  "kernelspec": {
   "display_name": "redditScrapper",
   "language": "python",
   "name": "redditscrapper"
  },
  "language_info": {
   "codemirror_mode": {
    "name": "ipython",
    "version": 3
   },
   "file_extension": ".py",
   "mimetype": "text/x-python",
   "name": "python",
   "nbconvert_exporter": "python",
   "pygments_lexer": "ipython3",
   "version": "3.7.10"
  }
 },
 "nbformat": 4,
 "nbformat_minor": 4
}
