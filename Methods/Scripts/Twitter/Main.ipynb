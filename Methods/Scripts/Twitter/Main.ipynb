{
 "cells": [
  {
   "cell_type": "markdown",
   "metadata": {},
   "source": [
    "# Twitter data"
   ]
  },
  {
   "cell_type": "markdown",
   "metadata": {},
   "source": [
    "## Employment"
   ]
  },
  {
   "cell_type": "code",
   "execution_count": 17,
   "metadata": {},
   "outputs": [],
   "source": [
    "from tweets import TwitterData\n",
    "import matplotlib.pyplot as plt"
   ]
  },
  {
   "cell_type": "code",
   "execution_count": 2,
   "metadata": {
    "collapsed": true,
    "jupyter": {
     "outputs_hidden": true
    }
   },
   "outputs": [
    {
     "name": "stderr",
     "output_type": "stream",
     "text": [
      " HTTP Error code: 429 | Too Many Requests\n",
      "Rate limit hit... Will retry...\n",
      "Will retry in 4 seconds...\n",
      " HTTP Error code: 429 | Too Many Requests\n",
      "Rate limit hit... Will retry...\n",
      "Will retry in 4 seconds...\n",
      " HTTP Error code: 429 | Too Many Requests\n",
      "Rate limit hit... Will retry...\n",
      "Will retry in 4 seconds...\n",
      " HTTP Error code: 429 | Too Many Requests\n",
      "Rate limit hit... Will retry...\n",
      "Will retry in 4 seconds...\n",
      " HTTP Error code: 429 | Too Many Requests\n",
      "Rate limit hit... Will retry...\n",
      "Will retry in 4 seconds...\n",
      " HTTP Error code: 429 | Too Many Requests\n",
      "Rate limit hit... Will retry...\n",
      "Will retry in 4 seconds...\n",
      " HTTP Error code: 429 | Too Many Requests\n",
      "Rate limit hit... Will retry...\n",
      "Will retry in 4 seconds...\n",
      " HTTP Error code: 429 | Too Many Requests\n",
      "Rate limit hit... Will retry...\n",
      "Will retry in 4 seconds...\n",
      " HTTP Error code: 429 | Too Many Requests\n",
      "Rate limit hit... Will retry...\n",
      "Will retry in 16 seconds...\n",
      " HTTP Error code: 429 | Too Many Requests\n",
      "Rate limit hit... Will retry...\n",
      "Will retry in 36 seconds...\n",
      " HTTP Error code: 429 | Too Many Requests\n",
      "Rate limit hit... Will retry...\n",
      "Will retry in 64 seconds...\n",
      " HTTP Error code: 429 | Too Many Requests\n",
      "Rate limit hit... Will retry...\n",
      "Will retry in 100 seconds...\n",
      " HTTP Error code: 429 | Too Many Requests\n",
      "Rate limit hit... Will retry...\n",
      "Will retry in 144 seconds...\n",
      " HTTP Error code: 429 | Too Many Requests\n",
      "Rate limit hit... Will retry...\n",
      "Will retry in 4 seconds...\n"
     ]
    }
   ],
   "source": [
    "# employment_data = TwitterData('Employment')\n",
    "# employment_data.validate_credentials()\n",
    "\n",
    "# start_week = 0\n",
    "# end_week = 30\n",
    "\n",
    "# for week_num in range(start_week, end_week+1,1):\n",
    "    \n",
    "#     try:\n",
    "#         employment_data.get_one_week(week_num)\n",
    "#     except:\n",
    "#         print(\"Failed to get week #{}\".format(week_num))\n",
    "#         continue\n",
    "        \n",
    "#     employment_data.export_one_week()\n",
    "    "
   ]
  },
  {
   "cell_type": "code",
   "execution_count": null,
   "metadata": {},
   "outputs": [],
   "source": [
    "employment_data = TwitterData('Vaccination')\n",
    "employment_data.validate_credentials()\n",
    "\n",
    "start_week = 0\n",
    "end_week = 30a\n",
    "\n",
    "for week_num in range(start_week, end_week+1,1):\n",
    "    \n",
    "    try:\n",
    "        employment_data.get_one_week(week_num)\n",
    "    except:\n",
    "        print(\"Failed to get week #{}\".format(week_num))\n",
    "        continue\n",
    "        \n",
    "    employment_data.export_one_week()\n",
    "    "
   ]
  },
  {
   "cell_type": "code",
   "execution_count": 7,
   "metadata": {},
   "outputs": [],
   "source": [
    "emp_df, emp_logs = TwitterData.load_all('Employment')"
   ]
  },
  {
   "cell_type": "code",
   "execution_count": 11,
   "metadata": {},
   "outputs": [
    {
     "data": {
      "text/plain": [
       "'2020-10-19T00:02:06.000Z'"
      ]
     },
     "execution_count": 11,
     "metadata": {},
     "output_type": "execute_result"
    }
   ],
   "source": [
    "min(dfs.index)"
   ]
  },
  {
   "cell_type": "code",
   "execution_count": 12,
   "metadata": {},
   "outputs": [
    {
     "data": {
      "text/plain": [
       "'2021-05-23T23:56:26.000Z'"
      ]
     },
     "execution_count": 12,
     "metadata": {},
     "output_type": "execute_result"
    }
   ],
   "source": [
    "max(dfs.index)"
   ]
  },
  {
   "cell_type": "code",
   "execution_count": 18,
   "metadata": {},
   "outputs": [
    {
     "data": {
      "text/plain": [
       "(array([5., 3., 4., 5., 4., 3., 2., 3., 1., 1.]),\n",
       " array([3235. , 3531.1, 3827.2, 4123.3, 4419.4, 4715.5, 5011.6, 5307.7,\n",
       "        5603.8, 5899.9, 6196. ]),\n",
       " <BarContainer object of 10 artists>)"
      ]
     },
     "execution_count": 18,
     "metadata": {},
     "output_type": "execute_result"
    },
    {
     "data": {
      "image/png": "[encoded data removed]",
      "text/plain": [
       "<Figure size 432x288 with 1 Axes>"
      ]
     },
     "metadata": {
      "needs_background": "light"
     },
     "output_type": "display_data"
    }
   ],
   "source": [
    "plt.hist(logs['totalTweets'])"
   ]
  }
 ],
 "metadata": {
  "kernelspec": {
   "display_name": "twitterSearch",
   "language": "python",
   "name": "twittersearch"
  },
  "language_info": {
   "codemirror_mode": {
    "name": "ipython",
    "version": 3
   },
   "file_extension": ".py",
   "mimetype": "text/x-python",
   "name": "python",
   "nbconvert_exporter": "python",
   "pygments_lexer": "ipython3",
   "version": "3.7.10"
  }
 },
 "nbformat": 4,
 "nbformat_minor": 4
}
