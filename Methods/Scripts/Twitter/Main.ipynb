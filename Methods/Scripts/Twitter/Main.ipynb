{
 "cells": [
  {
   "cell_type": "markdown",
   "metadata": {},
   "source": [
    "# Twitter data"
   ]
  },
  {
   "cell_type": "markdown",
   "metadata": {},
   "source": [
    "## Todo\n",
    "\n",
    "There are some (very few) NaNs in my results.\n",
    "* I'm guessing that some tweets will not have all the fileds I'm asking to be returned?\n",
    "* Have a closer look."
   ]
  },
  {
   "cell_type": "code",
   "execution_count": 1,
   "metadata": {},
   "outputs": [],
   "source": [
    "from tweets import TwitterData\n",
    "import matplotlib.pyplot as plt"
   ]
  },
  {
   "cell_type": "markdown",
   "metadata": {},
   "source": [
    "## Employment"
   ]
  },
  {
   "cell_type": "code",
   "execution_count": 2,
   "metadata": {},
   "outputs": [
    {
     "name": "stdout",
     "output_type": "stream",
     "text": [
      "Got week 0\n",
      "Exported week 0\n",
      "Got week 1\n",
      "Exported week 1\n",
      "Got week 2\n",
      "Exported week 2\n",
      "Got week 3\n",
      "Exported week 3\n",
      "Got week 4\n",
      "Exported week 4\n",
      "Got week 5\n",
      "Exported week 5\n",
      "Got week 6\n",
      "Exported week 6\n",
      "Got week 7\n",
      "Exported week 7\n",
      "Got week 8\n",
      "Exported week 8\n",
      "Got week 9\n",
      "Exported week 9\n",
      "Got week 10\n",
      "Exported week 10\n",
      "Got week 11\n",
      "Exported week 11\n",
      "Got week 12\n",
      "Exported week 12\n",
      "Got week 13\n",
      "Exported week 13\n",
      "Got week 14\n",
      "Exported week 14\n",
      "Got week 15\n",
      "Exported week 15\n",
      "Got week 16\n",
      "Exported week 16\n",
      "Got week 17\n",
      "Exported week 17\n",
      "Got week 18\n",
      "Exported week 18\n",
      "Got week 19\n",
      "Exported week 19\n",
      "Got week 20\n",
      "Exported week 20\n",
      "Got week 21\n",
      "Exported week 21\n",
      "Got week 22\n",
      "Exported week 22\n",
      "Got week 23\n",
      "Exported week 23\n",
      "Got week 24\n",
      "Exported week 24\n",
      "Got week 25\n",
      "Exported week 25\n"
     ]
    },
    {
     "name": "stderr",
     "output_type": "stream",
     "text": [
      " HTTP Error code: 429 | Too Many Requests\n",
      "Rate limit hit... Will retry...\n",
      "Will retry in 4 seconds...\n",
      " HTTP Error code: 429 | Too Many Requests\n",
      "Rate limit hit... Will retry...\n",
      "Will retry in 16 seconds...\n",
      " HTTP Error code: 429 | Too Many Requests\n",
      "Rate limit hit... Will retry...\n",
      "Will retry in 36 seconds...\n",
      " HTTP Error code: 429 | Too Many Requests\n",
      "Rate limit hit... Will retry...\n",
      "Will retry in 64 seconds...\n"
     ]
    },
    {
     "name": "stdout",
     "output_type": "stream",
     "text": [
      "Got week 26\n",
      "Exported week 26\n",
      "Got week 27\n",
      "Exported week 27\n",
      "Got week 28\n",
      "Exported week 28\n",
      "Got week 29\n",
      "Exported week 29\n",
      "Got week 30\n",
      "Exported week 30\n"
     ]
    }
   ],
   "source": [
    "employment_data = TwitterData('Employment')\n",
    "employment_data.validate_credentials()\n",
    "\n",
    "start_week = 0\n",
    "end_week = 30\n",
    "\n",
    "for week_num in range(start_week, end_week+1,1):\n",
    "    \n",
    "    try:\n",
    "        employment_data.get_one_week(week_num)\n",
    "        print(\"Got week {}\".format(week_num))\n",
    "    except:\n",
    "        print(\"Failed to get week #{}\".format(week_num))\n",
    "        continue\n",
    "        \n",
    "    employment_data.export_one_week()\n",
    "    print(\"Exported week {}\".format(week_num))"
   ]
  },
  {
   "cell_type": "code",
   "execution_count": 3,
   "metadata": {},
   "outputs": [],
   "source": [
    "emp_df, emp_logs = TwitterData.load_all('Employment')"
   ]
  },
  {
   "cell_type": "code",
   "execution_count": 4,
   "metadata": {},
   "outputs": [
    {
     "data": {
      "text/html": [
       "<div>\n",
       "<style scoped>\n",
       "    .dataframe tbody tr th:only-of-type {\n",
       "        vertical-align: middle;\n",
       "    }\n",
       "\n",
       "    .dataframe tbody tr th {\n",
       "        vertical-align: top;\n",
       "    }\n",
       "\n",
       "    .dataframe thead th {\n",
       "        text-align: right;\n",
       "    }\n",
       "</style>\n",
       "<table border=\"1\" class=\"dataframe\">\n",
       "  <thead>\n",
       "    <tr style=\"text-align: right;\">\n",
       "      <th></th>\n",
       "      <th>id</th>\n",
       "      <th>source</th>\n",
       "      <th>lang</th>\n",
       "      <th>text</th>\n",
       "      <th>geo.place_id</th>\n",
       "      <th>public_metrics.retweet_count</th>\n",
       "      <th>public_metrics.reply_count</th>\n",
       "      <th>public_metrics.like_count</th>\n",
       "      <th>public_metrics.quote_count</th>\n",
       "      <th>geo.coordinates.type</th>\n",
       "      <th>geo.coordinates.coordinates</th>\n",
       "      <th>full_name</th>\n",
       "    </tr>\n",
       "    <tr>\n",
       "      <th>created_at</th>\n",
       "      <th></th>\n",
       "      <th></th>\n",
       "      <th></th>\n",
       "      <th></th>\n",
       "      <th></th>\n",
       "      <th></th>\n",
       "      <th></th>\n",
       "      <th></th>\n",
       "      <th></th>\n",
       "      <th></th>\n",
       "      <th></th>\n",
       "      <th></th>\n",
       "    </tr>\n",
       "  </thead>\n",
       "  <tbody>\n",
       "    <tr>\n",
       "      <th>2020-10-25T23:59:23.000Z</th>\n",
       "      <td>1320515328955293703</td>\n",
       "      <td>Twitter for iPhone</td>\n",
       "      <td>en</td>\n",
       "      <td>@Gregt041 @SeanHouse90 @WPTV Let me get this s...</td>\n",
       "      <td>7dda05213481260c</td>\n",
       "      <td>0</td>\n",
       "      <td>2</td>\n",
       "      <td>0</td>\n",
       "      <td>0</td>\n",
       "      <td>NaN</td>\n",
       "      <td>NaN</td>\n",
       "      <td>Gainesville, FL</td>\n",
       "    </tr>\n",
       "    <tr>\n",
       "      <th>2020-10-25T23:58:50.000Z</th>\n",
       "      <td>1320515190572666882</td>\n",
       "      <td>Twitter for iPhone</td>\n",
       "      <td>en</td>\n",
       "      <td>@patrickbetdavid China/Jobs</td>\n",
       "      <td>bd46604b88949129</td>\n",
       "      <td>0</td>\n",
       "      <td>0</td>\n",
       "      <td>0</td>\n",
       "      <td>0</td>\n",
       "      <td>NaN</td>\n",
       "      <td>NaN</td>\n",
       "      <td>Poland, OH</td>\n",
       "    </tr>\n",
       "    <tr>\n",
       "      <th>2020-10-25T23:57:10.000Z</th>\n",
       "      <td>1320514772975132672</td>\n",
       "      <td>Twitter for Android</td>\n",
       "      <td>en</td>\n",
       "      <td>How I did my last fore jobs these 6 months wit...</td>\n",
       "      <td>46b149b6aa3775a2</td>\n",
       "      <td>0</td>\n",
       "      <td>0</td>\n",
       "      <td>0</td>\n",
       "      <td>0</td>\n",
       "      <td>NaN</td>\n",
       "      <td>NaN</td>\n",
       "      <td>Mount Airy, NC</td>\n",
       "    </tr>\n",
       "    <tr>\n",
       "      <th>2020-10-25T23:55:22.000Z</th>\n",
       "      <td>1320514318778052608</td>\n",
       "      <td>CareerArc 2.0</td>\n",
       "      <td>en</td>\n",
       "      <td>We’re looking for a talented Restaurant Manage...</td>\n",
       "      <td>352cf4e7314da0b4</td>\n",
       "      <td>1</td>\n",
       "      <td>0</td>\n",
       "      <td>0</td>\n",
       "      <td>0</td>\n",
       "      <td>Point</td>\n",
       "      <td>[-97.0426293, 32.9661702]</td>\n",
       "      <td>Grapevine, TX</td>\n",
       "    </tr>\n",
       "    <tr>\n",
       "      <th>2020-10-25T23:53:28.000Z</th>\n",
       "      <td>1320513842644979712</td>\n",
       "      <td>Twitter for iPhone</td>\n",
       "      <td>en</td>\n",
       "      <td>Was @GovWhitmer in on purchase of @HennigesCon...</td>\n",
       "      <td>00404cc8084d1f41</td>\n",
       "      <td>0</td>\n",
       "      <td>0</td>\n",
       "      <td>0</td>\n",
       "      <td>0</td>\n",
       "      <td>NaN</td>\n",
       "      <td>NaN</td>\n",
       "      <td>Le Roy, IL</td>\n",
       "    </tr>\n",
       "  </tbody>\n",
       "</table>\n",
       "</div>"
      ],
      "text/plain": [
       "                                           id               source lang  \\\n",
       "created_at                                                                \n",
       "2020-10-25T23:59:23.000Z  1320515328955293703   Twitter for iPhone   en   \n",
       "2020-10-25T23:58:50.000Z  1320515190572666882   Twitter for iPhone   en   \n",
       "2020-10-25T23:57:10.000Z  1320514772975132672  Twitter for Android   en   \n",
       "2020-10-25T23:55:22.000Z  1320514318778052608        CareerArc 2.0   en   \n",
       "2020-10-25T23:53:28.000Z  1320513842644979712   Twitter for iPhone   en   \n",
       "\n",
       "                                                                       text  \\\n",
       "created_at                                                                    \n",
       "2020-10-25T23:59:23.000Z  @Gregt041 @SeanHouse90 @WPTV Let me get this s...   \n",
       "2020-10-25T23:58:50.000Z                        @patrickbetdavid China/Jobs   \n",
       "2020-10-25T23:57:10.000Z  How I did my last fore jobs these 6 months wit...   \n",
       "2020-10-25T23:55:22.000Z  We’re looking for a talented Restaurant Manage...   \n",
       "2020-10-25T23:53:28.000Z  Was @GovWhitmer in on purchase of @HennigesCon...   \n",
       "\n",
       "                              geo.place_id  public_metrics.retweet_count  \\\n",
       "created_at                                                                 \n",
       "2020-10-25T23:59:23.000Z  7dda05213481260c                             0   \n",
       "2020-10-25T23:58:50.000Z  bd46604b88949129                             0   \n",
       "2020-10-25T23:57:10.000Z  46b149b6aa3775a2                             0   \n",
       "2020-10-25T23:55:22.000Z  352cf4e7314da0b4                             1   \n",
       "2020-10-25T23:53:28.000Z  00404cc8084d1f41                             0   \n",
       "\n",
       "                          public_metrics.reply_count  \\\n",
       "created_at                                             \n",
       "2020-10-25T23:59:23.000Z                           2   \n",
       "2020-10-25T23:58:50.000Z                           0   \n",
       "2020-10-25T23:57:10.000Z                           0   \n",
       "2020-10-25T23:55:22.000Z                           0   \n",
       "2020-10-25T23:53:28.000Z                           0   \n",
       "\n",
       "                          public_metrics.like_count  \\\n",
       "created_at                                            \n",
       "2020-10-25T23:59:23.000Z                          0   \n",
       "2020-10-25T23:58:50.000Z                          0   \n",
       "2020-10-25T23:57:10.000Z                          0   \n",
       "2020-10-25T23:55:22.000Z                          0   \n",
       "2020-10-25T23:53:28.000Z                          0   \n",
       "\n",
       "                          public_metrics.quote_count geo.coordinates.type  \\\n",
       "created_at                                                                  \n",
       "2020-10-25T23:59:23.000Z                           0                  NaN   \n",
       "2020-10-25T23:58:50.000Z                           0                  NaN   \n",
       "2020-10-25T23:57:10.000Z                           0                  NaN   \n",
       "2020-10-25T23:55:22.000Z                           0                Point   \n",
       "2020-10-25T23:53:28.000Z                           0                  NaN   \n",
       "\n",
       "                         geo.coordinates.coordinates        full_name  \n",
       "created_at                                                             \n",
       "2020-10-25T23:59:23.000Z                         NaN  Gainesville, FL  \n",
       "2020-10-25T23:58:50.000Z                         NaN       Poland, OH  \n",
       "2020-10-25T23:57:10.000Z                         NaN   Mount Airy, NC  \n",
       "2020-10-25T23:55:22.000Z   [-97.0426293, 32.9661702]    Grapevine, TX  \n",
       "2020-10-25T23:53:28.000Z                         NaN       Le Roy, IL  "
      ]
     },
     "execution_count": 4,
     "metadata": {},
     "output_type": "execute_result"
    }
   ],
   "source": [
    "emp_df.head()"
   ]
  },
  {
   "cell_type": "code",
   "execution_count": 3,
   "metadata": {},
   "outputs": [
    {
     "data": {
      "text/plain": [
       "{'query': '(jobs OR employment) lang:en place_country:US',\n",
       " 'max_results': 500,\n",
       " 'start_time': '2020-10-26T00:00:00Z',\n",
       " 'end_time': '2020-11-02T00:00:00Z',\n",
       " 'tweet.fields': 'id,created_at,text,public_metrics,lang,geo,source',\n",
       " 'expansions': 'geo.place_id',\n",
       " 'next_token': 'b26v89c19zqg8o3fosbs540vmz18fbeqy6u7az6jjp8xp'}"
      ]
     },
     "execution_count": 3,
     "metadata": {},
     "output_type": "execute_result"
    }
   ],
   "source": [
    "employment_data.rs.request_parameters"
   ]
  },
  {
   "cell_type": "code",
   "execution_count": 24,
   "metadata": {},
   "outputs": [
    {
     "name": "stdout",
     "output_type": "stream",
     "text": [
      "2020-10-19T00:02:06.000Z\n",
      "2021-05-23T23:56:26.000Z\n"
     ]
    }
   ],
   "source": [
    "print(min(emp_df.index))\n",
    "print(max(emp_df.index))"
   ]
  },
  {
   "cell_type": "markdown",
   "metadata": {},
   "source": [
    "## Vaccination"
   ]
  },
  {
   "cell_type": "code",
   "execution_count": 23,
   "metadata": {},
   "outputs": [
    {
     "name": "stderr",
     "output_type": "stream",
     "text": [
      " HTTP Error code: 429 | Too Many Requests\n",
      "Rate limit hit... Will retry...\n",
      "Will retry in 4 seconds...\n"
     ]
    }
   ],
   "source": [
    "vaccination_data = TwitterData('Vaccination')\n",
    "vaccination_data.validate_credentials()\n",
    "\n",
    "start_week = 0\n",
    "end_week = 30\n",
    "\n",
    "for week_num in range(start_week, end_week+1,1):\n",
    "    \n",
    "    try:\n",
    "        vaccination_data.get_one_week(week_num)\n",
    "    except:\n",
    "        print(\"Failed to get week #{}\".format(week_num))\n",
    "        continue\n",
    "        \n",
    "    vaccination_data.export_one_week()\n",
    "    "
   ]
  },
  {
   "cell_type": "code",
   "execution_count": 3,
   "metadata": {},
   "outputs": [],
   "source": [
    "vacc_df, vacc_logs = TwitterData.load_all('Vaccination')"
   ]
  },
  {
   "cell_type": "code",
   "execution_count": 4,
   "metadata": {},
   "outputs": [
    {
     "data": {
      "text/plain": [
       "Index(['text', 'id', 'public_metrics.retweet_count',\n",
       "       'public_metrics.reply_count', 'public_metrics.like_count',\n",
       "       'public_metrics.quote_count', 'withheld.copyright',\n",
       "       'withheld.country_codes', 'withheld.scope'],\n",
       "      dtype='object')"
      ]
     },
     "execution_count": 4,
     "metadata": {},
     "output_type": "execute_result"
    }
   ],
   "source": [
    "vacc_df.columns"
   ]
  },
  {
   "cell_type": "code",
   "execution_count": 9,
   "metadata": {},
   "outputs": [
    {
     "data": {
      "text/html": [
       "<div>\n",
       "<style scoped>\n",
       "    .dataframe tbody tr th:only-of-type {\n",
       "        vertical-align: middle;\n",
       "    }\n",
       "\n",
       "    .dataframe tbody tr th {\n",
       "        vertical-align: top;\n",
       "    }\n",
       "\n",
       "    .dataframe thead th {\n",
       "        text-align: right;\n",
       "    }\n",
       "</style>\n",
       "<table border=\"1\" class=\"dataframe\">\n",
       "  <thead>\n",
       "    <tr style=\"text-align: right;\">\n",
       "      <th></th>\n",
       "      <th>text</th>\n",
       "      <th>id</th>\n",
       "      <th>public_metrics.retweet_count</th>\n",
       "      <th>public_metrics.reply_count</th>\n",
       "      <th>public_metrics.like_count</th>\n",
       "      <th>public_metrics.quote_count</th>\n",
       "      <th>withheld.copyright</th>\n",
       "      <th>withheld.country_codes</th>\n",
       "      <th>withheld.scope</th>\n",
       "    </tr>\n",
       "    <tr>\n",
       "      <th>created_at</th>\n",
       "      <th></th>\n",
       "      <th></th>\n",
       "      <th></th>\n",
       "      <th></th>\n",
       "      <th></th>\n",
       "      <th></th>\n",
       "      <th></th>\n",
       "      <th></th>\n",
       "      <th></th>\n",
       "    </tr>\n",
       "  </thead>\n",
       "  <tbody>\n",
       "    <tr>\n",
       "      <th>2020-11-10T16:52:32.000Z</th>\n",
       "      <td>This Tweet from @loisgriffinstan has been with...</td>\n",
       "      <td>1326206116360052742</td>\n",
       "      <td>6.0</td>\n",
       "      <td>1.0</td>\n",
       "      <td>38.0</td>\n",
       "      <td>0.0</td>\n",
       "      <td>True</td>\n",
       "      <td>['XY']</td>\n",
       "      <td>tweet</td>\n",
       "    </tr>\n",
       "  </tbody>\n",
       "</table>\n",
       "</div>"
      ],
      "text/plain": [
       "                                                                       text  \\\n",
       "created_at                                                                    \n",
       "2020-11-10T16:52:32.000Z  This Tweet from @loisgriffinstan has been with...   \n",
       "\n",
       "                                           id  public_metrics.retweet_count  \\\n",
       "created_at                                                                    \n",
       "2020-11-10T16:52:32.000Z  1326206116360052742                           6.0   \n",
       "\n",
       "                          public_metrics.reply_count  \\\n",
       "created_at                                             \n",
       "2020-11-10T16:52:32.000Z                         1.0   \n",
       "\n",
       "                          public_metrics.like_count  \\\n",
       "created_at                                            \n",
       "2020-11-10T16:52:32.000Z                       38.0   \n",
       "\n",
       "                          public_metrics.quote_count withheld.copyright  \\\n",
       "created_at                                                                \n",
       "2020-11-10T16:52:32.000Z                         0.0               True   \n",
       "\n",
       "                         withheld.country_codes withheld.scope  \n",
       "created_at                                                      \n",
       "2020-11-10T16:52:32.000Z                 ['XY']          tweet  "
      ]
     },
     "execution_count": 9,
     "metadata": {},
     "output_type": "execute_result"
    }
   ],
   "source": [
    "vacc_df[vacc_df['withheld.scope'].notna()]"
   ]
  },
  {
   "cell_type": "code",
   "execution_count": 27,
   "metadata": {},
   "outputs": [],
   "source": [
    "vacc_df = vacc_df[vacc_df.columns.drop(list(vacc_df.filter(regex='withheld.')))]"
   ]
  },
  {
   "cell_type": "code",
   "execution_count": 28,
   "metadata": {},
   "outputs": [
    {
     "data": {
      "text/html": [
       "<div>\n",
       "<style scoped>\n",
       "    .dataframe tbody tr th:only-of-type {\n",
       "        vertical-align: middle;\n",
       "    }\n",
       "\n",
       "    .dataframe tbody tr th {\n",
       "        vertical-align: top;\n",
       "    }\n",
       "\n",
       "    .dataframe thead th {\n",
       "        text-align: right;\n",
       "    }\n",
       "</style>\n",
       "<table border=\"1\" class=\"dataframe\">\n",
       "  <thead>\n",
       "    <tr style=\"text-align: right;\">\n",
       "      <th></th>\n",
       "      <th>text</th>\n",
       "      <th>id</th>\n",
       "      <th>public_metrics.retweet_count</th>\n",
       "      <th>public_metrics.reply_count</th>\n",
       "      <th>public_metrics.like_count</th>\n",
       "      <th>public_metrics.quote_count</th>\n",
       "    </tr>\n",
       "    <tr>\n",
       "      <th>created_at</th>\n",
       "      <th></th>\n",
       "      <th></th>\n",
       "      <th></th>\n",
       "      <th></th>\n",
       "      <th></th>\n",
       "      <th></th>\n",
       "    </tr>\n",
       "  </thead>\n",
       "  <tbody>\n",
       "    <tr>\n",
       "      <th>2021-02-12T03:51:16.000Z</th>\n",
       "      <td>‘He did not do his job’: Biden slams Trump’s v...</td>\n",
       "      <td>1360073961762136064</td>\n",
       "      <td>NaN</td>\n",
       "      <td>NaN</td>\n",
       "      <td>NaN</td>\n",
       "      <td>NaN</td>\n",
       "    </tr>\n",
       "    <tr>\n",
       "      <th>0</th>\n",
       "      <td>5</td>\n",
       "      <td>0</td>\n",
       "      <td>0.0</td>\n",
       "      <td>NaN</td>\n",
       "      <td>NaN</td>\n",
       "      <td>NaN</td>\n",
       "    </tr>\n",
       "    <tr>\n",
       "      <th>NaN</th>\n",
       "      <td>Houston Doctor Fired for Giving Away Doses of ...</td>\n",
       "      <td>NaN</td>\n",
       "      <td>NaN</td>\n",
       "      <td>NaN</td>\n",
       "      <td>NaN</td>\n",
       "      <td>NaN</td>\n",
       "    </tr>\n",
       "    <tr>\n",
       "      <th>NaN</th>\n",
       "      <td>NaN</td>\n",
       "      <td>NaN</td>\n",
       "      <td>NaN</td>\n",
       "      <td>NaN</td>\n",
       "      <td>NaN</td>\n",
       "      <td>NaN</td>\n",
       "    </tr>\n",
       "    <tr>\n",
       "      <th>0</th>\n",
       "      <td>1361510064666923010</td>\n",
       "      <td>2021-02-16T02:57:49.000Z</td>\n",
       "      <td>0.0</td>\n",
       "      <td>0.0</td>\n",
       "      <td>0.0</td>\n",
       "      <td>NaN</td>\n",
       "    </tr>\n",
       "  </tbody>\n",
       "</table>\n",
       "</div>"
      ],
      "text/plain": [
       "                                                                       text  \\\n",
       "created_at                                                                    \n",
       "2021-02-12T03:51:16.000Z  ‘He did not do his job’: Biden slams Trump’s v...   \n",
       "0                                                                         5   \n",
       "NaN                       Houston Doctor Fired for Giving Away Doses of ...   \n",
       "NaN                                                                     NaN   \n",
       "0                                                       1361510064666923010   \n",
       "\n",
       "                                                id  \\\n",
       "created_at                                           \n",
       "2021-02-12T03:51:16.000Z       1360073961762136064   \n",
       "0                                                0   \n",
       "NaN                                            NaN   \n",
       "NaN                                            NaN   \n",
       "0                         2021-02-16T02:57:49.000Z   \n",
       "\n",
       "                          public_metrics.retweet_count  \\\n",
       "created_at                                               \n",
       "2021-02-12T03:51:16.000Z                           NaN   \n",
       "0                                                  0.0   \n",
       "NaN                                                NaN   \n",
       "NaN                                                NaN   \n",
       "0                                                  0.0   \n",
       "\n",
       "                          public_metrics.reply_count  \\\n",
       "created_at                                             \n",
       "2021-02-12T03:51:16.000Z                         NaN   \n",
       "0                                                NaN   \n",
       "NaN                                              NaN   \n",
       "NaN                                              NaN   \n",
       "0                                                0.0   \n",
       "\n",
       "                          public_metrics.like_count  \\\n",
       "created_at                                            \n",
       "2021-02-12T03:51:16.000Z                        NaN   \n",
       "0                                               NaN   \n",
       "NaN                                             NaN   \n",
       "NaN                                             NaN   \n",
       "0                                               0.0   \n",
       "\n",
       "                          public_metrics.quote_count  \n",
       "created_at                                            \n",
       "2021-02-12T03:51:16.000Z                         NaN  \n",
       "0                                                NaN  \n",
       "NaN                                              NaN  \n",
       "NaN                                              NaN  \n",
       "0                                                NaN  "
      ]
     },
     "execution_count": 28,
     "metadata": {},
     "output_type": "execute_result"
    }
   ],
   "source": [
    "vacc_df[vacc_df.isna().any(axis=1)]"
   ]
  },
  {
   "cell_type": "code",
   "execution_count": 51,
   "metadata": {},
   "outputs": [],
   "source": [
    "vacc_df = vacc_df[vacc_df.index.notna()]\n",
    "vacc_df = vacc_df[vacc_df.index != '0']"
   ]
  },
  {
   "cell_type": "code",
   "execution_count": 1,
   "metadata": {},
   "outputs": [
    {
     "ename": "NameError",
     "evalue": "name 'vacc_df' is not defined",
     "output_type": "error",
     "traceback": [
      "\u001b[0;31m---------------------------------------------------------------------------\u001b[0m",
      "\u001b[0;31mNameError\u001b[0m                                 Traceback (most recent call last)",
      "\u001b[0;32m<ipython-input-1-f37389d157c7>\u001b[0m in \u001b[0;36m<module>\u001b[0;34m\u001b[0m\n\u001b[0;32m----> 1\u001b[0;31m \u001b[0mprint\u001b[0m\u001b[0;34m(\u001b[0m\u001b[0mmin\u001b[0m\u001b[0;34m(\u001b[0m\u001b[0mvacc_df\u001b[0m\u001b[0;34m.\u001b[0m\u001b[0mindex\u001b[0m\u001b[0;34m)\u001b[0m\u001b[0;34m)\u001b[0m\u001b[0;34m\u001b[0m\u001b[0;34m\u001b[0m\u001b[0m\n\u001b[0m\u001b[1;32m      2\u001b[0m \u001b[0mprint\u001b[0m\u001b[0;34m(\u001b[0m\u001b[0mmax\u001b[0m\u001b[0;34m(\u001b[0m\u001b[0mvacc_df\u001b[0m\u001b[0;34m.\u001b[0m\u001b[0mindex\u001b[0m\u001b[0;34m)\u001b[0m\u001b[0;34m)\u001b[0m\u001b[0;34m\u001b[0m\u001b[0;34m\u001b[0m\u001b[0m\n",
      "\u001b[0;31mNameError\u001b[0m: name 'vacc_df' is not defined"
     ]
    }
   ],
   "source": [
    "print(min(vacc_df.index))\n",
    "print(max(vacc_df.index))"
   ]
  },
  {
   "cell_type": "code",
   "execution_count": 49,
   "metadata": {},
   "outputs": [
    {
     "data": {
      "text/plain": [
       "True"
      ]
     },
     "execution_count": 49,
     "metadata": {},
     "output_type": "execute_result"
    }
   ],
   "source": [
    "any(vacc_df.index == '0')"
   ]
  },
  {
   "cell_type": "code",
   "execution_count": 50,
   "metadata": {},
   "outputs": [
    {
     "data": {
      "text/html": [
       "<div>\n",
       "<style scoped>\n",
       "    .dataframe tbody tr th:only-of-type {\n",
       "        vertical-align: middle;\n",
       "    }\n",
       "\n",
       "    .dataframe tbody tr th {\n",
       "        vertical-align: top;\n",
       "    }\n",
       "\n",
       "    .dataframe thead th {\n",
       "        text-align: right;\n",
       "    }\n",
       "</style>\n",
       "<table border=\"1\" class=\"dataframe\">\n",
       "  <thead>\n",
       "    <tr style=\"text-align: right;\">\n",
       "      <th></th>\n",
       "      <th>text</th>\n",
       "      <th>id</th>\n",
       "      <th>public_metrics.retweet_count</th>\n",
       "      <th>public_metrics.reply_count</th>\n",
       "      <th>public_metrics.like_count</th>\n",
       "      <th>public_metrics.quote_count</th>\n",
       "      <th>withheld.copyright</th>\n",
       "      <th>withheld.country_codes</th>\n",
       "      <th>withheld.scope</th>\n",
       "    </tr>\n",
       "    <tr>\n",
       "      <th>created_at</th>\n",
       "      <th></th>\n",
       "      <th></th>\n",
       "      <th></th>\n",
       "      <th></th>\n",
       "      <th></th>\n",
       "      <th></th>\n",
       "      <th></th>\n",
       "      <th></th>\n",
       "      <th></th>\n",
       "    </tr>\n",
       "  </thead>\n",
       "  <tbody>\n",
       "    <tr>\n",
       "      <th>0</th>\n",
       "      <td>1360073961762136064</td>\n",
       "      <td>2021-02-12T03:51:16.000Z</td>\n",
       "      <td>0.0</td>\n",
       "      <td>5.0</td>\n",
       "      <td>0.0</td>\n",
       "      <td>NaN</td>\n",
       "      <td>NaN</td>\n",
       "      <td>NaN</td>\n",
       "      <td>NaN</td>\n",
       "    </tr>\n",
       "    <tr>\n",
       "      <th>0</th>\n",
       "      <td>1361510064666923010</td>\n",
       "      <td>2021-02-16T02:57:49.000Z</td>\n",
       "      <td>0.0</td>\n",
       "      <td>0.0</td>\n",
       "      <td>0.0</td>\n",
       "      <td>NaN</td>\n",
       "      <td>NaN</td>\n",
       "      <td>NaN</td>\n",
       "      <td>NaN</td>\n",
       "    </tr>\n",
       "  </tbody>\n",
       "</table>\n",
       "</div>"
      ],
      "text/plain": [
       "                           text                        id  \\\n",
       "created_at                                                  \n",
       "0           1360073961762136064  2021-02-12T03:51:16.000Z   \n",
       "0           1361510064666923010  2021-02-16T02:57:49.000Z   \n",
       "\n",
       "            public_metrics.retweet_count  public_metrics.reply_count  \\\n",
       "created_at                                                             \n",
       "0                                    0.0                         5.0   \n",
       "0                                    0.0                         0.0   \n",
       "\n",
       "            public_metrics.like_count  public_metrics.quote_count  \\\n",
       "created_at                                                          \n",
       "0                                 0.0                         NaN   \n",
       "0                                 0.0                         NaN   \n",
       "\n",
       "           withheld.copyright withheld.country_codes withheld.scope  \n",
       "created_at                                                           \n",
       "0                         NaN                    NaN            NaN  \n",
       "0                         NaN                    NaN            NaN  "
      ]
     },
     "execution_count": 50,
     "metadata": {},
     "output_type": "execute_result"
    }
   ],
   "source": [
    "vacc_df = vacc_df[vacc_df.index != '0']"
   ]
  },
  {
   "cell_type": "code",
   "execution_count": 40,
   "metadata": {},
   "outputs": [],
   "source": [
    "strings = 0\n",
    "other = 0\n",
    "\n",
    "for i in vacc_df.index:\n",
    "    if isinstance(i, str):\n",
    "        strings +=1\n",
    "    else:\n",
    "        print(i)\n",
    "        other +=1"
   ]
  },
  {
   "cell_type": "code",
   "execution_count": 41,
   "metadata": {},
   "outputs": [
    {
     "data": {
      "text/plain": [
       "85064"
      ]
     },
     "execution_count": 41,
     "metadata": {},
     "output_type": "execute_result"
    }
   ],
   "source": [
    "strings"
   ]
  },
  {
   "cell_type": "code",
   "execution_count": 42,
   "metadata": {},
   "outputs": [
    {
     "data": {
      "text/plain": [
       "0"
      ]
     },
     "execution_count": 42,
     "metadata": {},
     "output_type": "execute_result"
    }
   ],
   "source": [
    "other"
   ]
  },
  {
   "cell_type": "code",
   "execution_count": null,
   "metadata": {},
   "outputs": [],
   "source": []
  },
  {
   "cell_type": "code",
   "execution_count": 18,
   "metadata": {},
   "outputs": [
    {
     "data": {
      "text/plain": [
       "(array([5., 3., 4., 5., 4., 3., 2., 3., 1., 1.]),\n",
       " array([3235. , 3531.1, 3827.2, 4123.3, 4419.4, 4715.5, 5011.6, 5307.7,\n",
       "        5603.8, 5899.9, 6196. ]),\n",
       " <BarContainer object of 10 artists>)"
      ]
     },
     "execution_count": 18,
     "metadata": {},
     "output_type": "execute_result"
    },
    {
     "data": {
      "image/png": "[encoded data removed]",
      "text/plain": [
       "<Figure size 432x288 with 1 Axes>"
      ]
     },
     "metadata": {
      "needs_background": "light"
     },
     "output_type": "display_data"
    }
   ],
   "source": [
    "plt.hist(logs['totalTweets'])"
   ]
  }
 ],
 "metadata": {
  "kernelspec": {
   "display_name": "twitterSearch",
   "language": "python",
   "name": "twittersearch"
  },
  "language_info": {
   "codemirror_mode": {
    "name": "ipython",
    "version": 3
   },
   "file_extension": ".py",
   "mimetype": "text/x-python",
   "name": "python",
   "nbconvert_exporter": "python",
   "pygments_lexer": "ipython3",
   "version": "3.7.10"
  }
 },
 "nbformat": 4,
 "nbformat_minor": 4
}
