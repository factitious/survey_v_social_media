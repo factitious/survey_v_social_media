{
 "cells": [
  {
   "cell_type": "markdown",
   "metadata": {},
   "source": [
    "# The full-archive endpoint\n",
    "\n",
    "Most of this comes from this tutorial:\n",
    "https://dev.to/twitterdev/getting-historical-tweets-using-the-full-archive-search-endpoint-1agp"
   ]
  },
  {
   "cell_type": "code",
   "execution_count": 1,
   "metadata": {},
   "outputs": [],
   "source": [
    "import os\n",
    "\n",
    "# Set up the bearer token as an env variable\n",
    "# os.environ['BEARER_TOKEN'] = '#Bearer Token here'\n",
    "\n",
    "# To get the token use \n",
    "#    Python: os.environ['BEARER_TOKEN']\n",
    "#    Bash: $BEARER_TOKEN"
   ]
  },
  {
   "cell_type": "markdown",
   "metadata": {},
   "source": [
    "## Building queries"
   ]
  },
  {
   "cell_type": "markdown",
   "metadata": {},
   "source": [
    "Full-archive search of an account, e.g. @TwitterDev (i.e. from:twitterdev), using the following syntax."
   ]
  },
  {
   "cell_type": "code",
   "execution_count": 82,
   "metadata": {},
   "outputs": [
    {
     "name": "stdout",
     "output_type": "stream",
     "text": [
      "{\"title\":\"Unauthorized\",\"type\":\"about:blank\",\"status\":401,\"detail\":\"Unauthorized\"}"
     ]
    }
   ],
   "source": [
    "# A basic query using curl\n",
    "!curl --request GET 'https://api.twitter.com/2/tweets/search/all?query=from:twitterdev' --header \"Authorization: Bearer $BEARER_TOKEN\"\n"
   ]
  },
  {
   "cell_type": "markdown",
   "metadata": {},
   "source": [
    "Queries are built inside the GET method of curl, and there's a huge range of paramaters that can be selected, starting with **search terms**, e.g. *query=(covid OR coronavirus)* below, and **number of results** to return, e.g. 60 below."
   ]
  },
  {
   "cell_type": "code",
   "execution_count": 36,
   "metadata": {
    "collapsed": true,
    "jupyter": {
     "outputs_hidden": true
    }
   },
   "outputs": [
    {
     "name": "stdout",
     "output_type": "stream",
     "text": [
      "{\"data\":[{\"id\":\"1401907340945809412\",\"text\":\"The latest The Occupational safety and health Daily! https://t.co/KOv0Ibc13A Thanks to @pathikrit2sen #covid19 #coronavirus\"},{\"id\":\"1401907340798988291\",\"text\":\"RT @WHCOS: In just four months, progress in fighting COVID and getting the economy moving again is making a huge difference.\"},{\"id\":\"1401907340710866954\",\"text\":\"RT @DrTomFrieden: Decades of research went into mRNA technology, and clinical trials included more than 100,000 people. Covid vaccines were…\"},{\"id\":\"1401907340249493504\",\"text\":\"@srivatsayb for fucker and motherfucker think that all things  is done  by modi such as covid 19 call modi strain\"},{\"id\":\"1401907340161519619\",\"text\":\"RT @ForestRightsAct: \\\"Nearly 87% of Adivasis are forest dependent. MFP collection, transport &amp; sales are affected by..lockdown. State procu…\"},{\"id\":\"1401907339590918144\",\"text\":\"RT @YopiGarisKeras: Akibat sibuk ngurusin Capres 2024 yg masih jauh, Gubernur tiktok malah blunder, Jateng enggak di urus sehingga angka co…\"},{\"id\":\"1401907339511451651\",\"text\":\"RT @z101digital: Ezequiel Molina cree la vacuna contra covid es un ensayo para los “planes del anticristo” \\n\\nAmplía la información en Z Dig…\"},{\"id\":\"1401907339188449282\",\"text\":\"RT @ConassOficial: Esse e muitos outros artigos compõem os 6 livros da Coleção Covid-19. Acesse, baixe a sua coleção e tenha em mãos um vas…\"},{\"id\":\"1401907339158900738\",\"text\":\"RT @Fahmibinhassan: Tular pula nasihat dari beberapa “doktor” yang menyarankan pengambilan aspirin 300mg sehari bagi rawatan Covid.\\n\\nJika a…\"},{\"id\":\"1401907338701795330\",\"text\":\"RT @BJP4India: Pradhan Mantri Garib Kalyan Anna Yojana extended till Diwali 2021!\\n\\nIn a move to support the poor and needy as India fights…\"},{\"id\":\"1401907338517225474\",\"text\":\"RT @TimRunsHisMouth: Today I learned that COVID is so deadly that you can dominate a PGA tournament and not even know you have it.\"},{\"id\":\"1401907338391420932\",\"text\":\"RT @myhanabiclub: ฮันบิน : เพราะว่าตอนนี้เรากำลังเจอกับสถานการณ์โรค covid-19 ผมจึงไม่มีโอกาสที่จะได้พบเจอหรือสื่อสารกับไอดี (แฟนคลับ) และห…\"},{\"id\":\"1401907338320257026\",\"text\":\"RT @JLozanoA: Pues esta semana tendremos: \\n\\n- Conflicto postelectoral\\n- Visita incómoda de @VP de EE.UU.A.\\n- El relevo del culero de @mario…\"},{\"id\":\"1401907338269794304\",\"text\":\"RT @FLOTUS: Faith leaders are key to ending this pandemic.\\n\\nThank you to @AbyssinianBC and all of the ministers we met with today who are s…\"},{\"id\":\"1401907337795833866\",\"text\":\"RT @NumanAfifi: So we do know how badly we treat people living with HIV?\\n\\nhttps://t.co/gkddsXqkyi\"},{\"id\":\"1401907337531584523\",\"text\":\"RT @TimRunsHisMouth: Today I learned that COVID is so deadly that you can dominate a PGA tournament and not even know you have it.\"},{\"id\":\"1401907337363742721\",\"text\":\"#PMNarendraModi\\n#FreeVaccineForAll\\nModi ji said “covid-19 vaccination would be free for all”\\nPeople in between age 18-44 who were vaccinated by spending money in past:- https://t.co/P5unATdKjZ\"},{\"id\":\"1401907337229705216\",\"text\":\"RT @dramuajaja: Sigo sin entender porqué médicos puedan seguir apoyando la ideología de Morena, no sufrieron desabasto en material y medica…\"},{\"id\":\"1401907337212870661\",\"text\":\"@321Destacamento continuá presente incentivando la\\nprevención de Covid 19, junto a los organismos de seguridad del estado Cojedes. \\n#7Jun #FANB #GNB\\n#VenezuelaPatriota\\n#GNByPuebloInvictos\\n#FANBDignidadPatriótica\\n.@NicolasMaduro .@cmdtegralgnb\\n.@CONASCmdte https://t.co/9FcC5mYX13\"},{\"id\":\"1401907336835485697\",\"text\":\"RT @Jambock67: BOMBA \\nNa saída do Alvorada hoje pela manhã o PR Bolsonaro revelou com exclusividade que segundo relatório do TCU pelo menos…\"},{\"id\":\"1401907336491548681\",\"text\":\"Health asks for negative COVID-19 results after TSJB ban requiring non-residents to justify travel | They may also submit vaccination certificates https://t.co/n9wcbyKKDI\"},{\"id\":\"1401907336478806018\",\"text\":\"RT @OpIndia_com: Here is how PM Narendra Modi took non-NDA ruled states to the cleaners today over their propaganda against vaccine policy…\"},{\"id\":\"1401907336193613824\",\"text\":\"RT @fadzliJamal: Doakan kakak ipar aku. Cat 5 covid pregnant at 34ws . Last heard news was she is going to be intubated for severe ards . D…\"},{\"id\":\"1401907336114016258\",\"text\":\"@Mikethewander1 Yes, I continue to wear a mask even though I've been vaccinated. The reason I do so is because the COVID-19 “variants” (mutations) are yet to come.\"},{\"id\":\"1401907335916818432\",\"text\":\"RT @Arie76736730: Operasi Yustisi\\\" Bersama Polri dan Satpol PP Kec. Buru \\nDalam rangka mensosialisasikan Perbup Karimun No 49/2020 tentang…\"},{\"id\":\"1401907335791091716\",\"text\":\"RT @HillaryTaylorVI: Uganda’s government orders schools to close and restricts public transport between regions for six weeks to contain a…\"},{\"id\":\"1401907335765712896\",\"text\":\"RT @patriottakes: How can the party that has flagrantly downplayed or flatly denied the existence of COVID-19 now say, \\\"How many lives coul…\"},{\"id\":\"1401907335698735114\",\"text\":\"@nojonginnolife Hi. For information on who is an immediate family member, please see: https://t.co/w0s6YoEE6F\"},{\"id\":\"1401907335644188674\",\"text\":\"RT @Bri_gitte_J: 1/2 Amerikaans overheidsinstituut heeft geconcludeerd dat: ivermectin should be globally and systematically deployed in th…\"},{\"id\":\"1401907335308746755\",\"text\":\"@Hammertime285 Was this always your wedding day or did covid interfere\"},{\"id\":\"1401907335165927426\",\"text\":\"RT @AnkurHandique10: Exam patibole asil agote patibo lagisile atia aru time nai. Ani amk misa hantona di nathakibo j apunalukor usrt time a…\"},{\"id\":\"1401907335090425856\",\"text\":\"I’m really torn about whether or not I want to move back to the UK when covid isn’t such an issue\\n\\nIdk, I just don’t think that there’s much tethering me to this place anymore besides a few close friends\\n\\nBut idk if moving back there will make life any better\"},{\"id\":\"1401907334952128512\",\"text\":\"#MSPPHaiti\\n#COVID19\\n#UCRP\\n#CAN116\\n169 nouvo ka konfime ak twa (3) moun anplis mouri anba COVID-19 nan dat 2 Jen 2021 an nan peyi Dayiti. Sa ki bay yon total 15, 604 ka konfime, 2, 434 moun ki pase lopital, 328 moun mouri ak 12, 557 moun trete. https://t.co/cB5t0RNbc7\"},{\"id\":\"1401907334876647424\",\"text\":\"RT @lordivan22: Mais novidades sobre o laboratório em Wuhan.\\n\\nUm cientista militar chinês com ligações com os Estados Unidos registrou uma…\"},{\"id\":\"1401907334759305223\",\"text\":\"@fabio_thabib @J1mmyEd @marilia_mari @folha E quando Cloroquina ivermectina e afins foram aprovados pela anvisa pra tratar covid? E tão descaradamente desonesto como a aprovação da anvisa só e importante pra vcs quando e coveniente criar argumento pra não ter comprado as vacinas da pfizer, ate pouco antes Anvisa era do mal\"},{\"id\":\"1401907334377398276\",\"text\":\"RT @JackPosobiec: We now have reports that in Spring 2020, Dr Fauci privately warned Europe that Covid leaked from the Wuhan lab while he p…\"},{\"id\":\"1401907334251794441\",\"text\":\"Conoce el estudio a continuación \\uD83D\\uDC47\\uD83C\\uDFFC\\nhttps://t.co/XX5LGmLzBC\"},{\"id\":\"1401907334092296195\",\"text\":\"RT @Rconstantino: \\\"A CPI da Covid está em uma encruzilhada. Os senadores ainda não conseguiram nada e estão fazendo o maior fiasco. Teve at…\"},{\"id\":\"1401907333786128385\",\"text\":\"@subsurface_life @SynaptoKate Kid1 is only doing day camps. Not cause of covid, just cause he hasn't expressed an interest in sleepaway camp.\"},{\"id\":\"1401907333677174787\",\"text\":\"@JustlerReborn @PoliticsForAlI NHS England has reported 0 Covid deaths for the first time since March 2020.\"},{\"id\":\"1401907333559513089\",\"text\":\"RT @HWarroom: According to LUDE Media, the U.S. obtained important clues through interception of CCP's communications that suggest Covid-19…\"},{\"id\":\"1401907333555425285\",\"text\":\"Go in here Penny!  And you will see booking.  https://t.co/GfyHnthIlN https://t.co/Lj1Yesjqg1\"},{\"id\":\"1401907333312122889\",\"text\":\"RT @BukkalAnil: Saint Dr @GurmeetRamRahim keeping the words of #DeraSachaSauda Servants of villages are helping COVID warriors in cities wi…\"},{\"id\":\"1401907333119229956\",\"text\":\"@dimetu26 @BombaTruth @RealSGray @iansmithfitness @Oldglorycries No. Covid aka SARS was named coronavirus in 1956\"},{\"id\":\"1401907332850741249\",\"text\":\"RT @vijayanpinarayi: The Hon. Prime Minister's declaration that Covid-19 vaccine will be supplied free of cost to the States from 21 June,…\"},{\"id\":\"1401907332825726979\",\"text\":\"RT @covid_clarity: Jon Rahm, the leader by six strokes, finds out he tested positive for COVID-19.\\n\\nHe is escorted off the course by PGA of…\"},{\"id\":\"1401907332561440776\",\"text\":\"RT @aragon_jb: La danseuse Natalia Johnson, 37 ans, décède après avoir été vaccinée.\\nhttps://t.co/S1Me8xkDup\"},{\"id\":\"1401907332481757186\",\"text\":\"RT @disclosetv: https://t.co/zVkcnp5BpC\"},{\"id\":\"1401907332435562506\",\"text\":\"Due to covid restrictions the next ECPW scheduled show is July 24th. \\n\\nAll tickets from May will be honoured.\\n\\nMessage the ECPW page with any ticket related questions\\n\\nThanks for your support, we cannot wait to see you again soon!! https://t.co/vDlLz4Hfgr\"},{\"id\":\"1401907332410351619\",\"text\":\"RT @factcheckdotorg: The COVID-19 vaccines have been the subject of peer-reviewed studies that found they were effective and safe, but a me…\"},{\"id\":\"1401907332020424704\",\"text\":\"RT @raquelstrr: Sabéis q la vacuna contra el VIH ya existe?\\nEstá en fase 1,con una efectividad del 97%.\\nLo q pasa es q ha quedado eclipsada…\"},{\"id\":\"1401907331596701706\",\"text\":\"RT @gardnertatuada: Ceis tão ligados que novos casos de Covid aqui em Udi estavam em 140/150 por dia e que de ontem pra hoje foram 357, né?\"},{\"id\":\"1401907331521204230\",\"text\":\"https://t.co/sw86F2V94r\"},{\"id\":\"1401907331416440832\",\"text\":\"RT @mercola: Looks like someone is trying to erase evidence\\nhttps://t.co/5jZ9P2eVyo\"},{\"id\":\"1401907331068272640\",\"text\":\"RT @SuzeQKnits: I'm back at work today and unfortunately, we have three new covid-19 patients under the age of 15, and all are on ventilato…\"},{\"id\":\"1401907330988584960\",\"text\":\"RT @Consenso15: Un científico militar chino \\\"presentó una patente para una vacuna contra el COVID-19 ANTES de que el virus fuera declarado…\"},{\"id\":\"1401907330711687177\",\"text\":\"@JenHG43 @FlowerByunny The Swedes never imposed a national lockdown/mandatory mask wearing. Sweden has fewer COVID deaths per million than the UK. It's not because of population density, Stockholm has fewer deaths than Manchester (a similar size city). Boris Johnson's restrictions will achieve nothing.\"},{\"id\":\"1401907330476822532\",\"text\":\"RT @BarnettforAZ: Judicial Watch Obtains Records Showing NIAID under Dr. Fauci Gave Wuhan Lab $826k for Bat Coronavirus Research From 2014…\"},{\"id\":\"1401907330460049408\",\"text\":\"RT @cmencke: AwesomeCapital: Yet Another Study Suggests COVID Is Likely Lab-Eng... https://t.co/y9L5eu3Grb\"},{\"id\":\"1401907330258771975\",\"text\":\"RT @lujambioalberto: Lo de CDMX sí tiene que ver con el covid y en colapso del metro pero eso NO es lo que definió esta lastimosa jornada.…\"}],\"meta\":{\"newest_id\":\"1401907340945809412\",\"oldest_id\":\"1401907330258771975\",\"result_count\":60,\"next_token\":\"b26v89c19zqg8o3fpdg7ciiuuvf4yf2qrwiqo2yh9l471\"}}"
     ]
    }
   ],
   "source": [
    "# Searching for all tweets from any account.\n",
    "# Adding search terms and the number of max results. \n",
    "!curl --request GET 'https://api.twitter.com/2/tweets/search/all?query=(covid%20OR%20coronavirus)&max_results=60' --header \"Authorization: Bearer $BEARER_TOKEN\"\n"
   ]
  },
  {
   "cell_type": "markdown",
   "metadata": {},
   "source": [
    "Specifying the **search period** is done in ISO-8601 format and works similarly:"
   ]
  },
  {
   "cell_type": "code",
   "execution_count": 81,
   "metadata": {},
   "outputs": [
    {
     "name": "stdout",
     "output_type": "stream",
     "text": [
      "{\"title\":\"Unauthorized\",\"type\":\"about:blank\",\"status\":401,\"detail\":\"Unauthorized\"}"
     ]
    }
   ],
   "source": [
    "!curl --request GET 'https://api.twitter.com/2/tweets/search/all?query=(covid%20OR%20coronavirus)&start_time=2020-10-01T00:00:00.00Z&end_time=2020-10-26T00:00:00.00Z&max_results=60' --header \"Authorization: Bearer $BEARER_TOKEN\""
   ]
  },
  {
   "cell_type": "markdown",
   "metadata": {},
   "source": [
    "Adding response fields, e.g. *created_at, author_id, referenced_tweets*. The default is just *id*, a unique identifier for each Tweet and *text* the actual text of the Tweet."
   ]
  },
  {
   "cell_type": "code",
   "execution_count": 46,
   "metadata": {
    "collapsed": true,
    "jupyter": {
     "outputs_hidden": true
    }
   },
   "outputs": [
    {
     "name": "stdout",
     "output_type": "stream",
     "text": [
      "{\"data\":[{\"created_at\":\"2020-10-25T23:59:59.000Z\",\"id\":\"1320515483842551808\",\"conversation_id\":\"1320515483842551808\",\"text\":\"RT @CNBC: Mike Pence will not quarantine after four aides test positive for coronavirus https://t.co/LcARTo65cs\",\"lang\":\"en\"},{\"created_at\":\"2020-10-25T23:59:59.000Z\",\"id\":\"1320515483754397696\",\"conversation_id\":\"1320515483754397696\",\"text\":\"RT @JohnT15: The Democrats won World Wars 1 and 2 by putting combatants... draftees &amp; volunteers... to die for Democracy.\\n\\nThe Republicans…\",\"lang\":\"en\"},{\"created_at\":\"2020-10-25T23:59:59.000Z\",\"id\":\"1320515483267932161\",\"conversation_id\":\"1320515483267932161\",\"text\":\"RT @RonaldKlain: More than 1,000 health care workers in the US have died from COVID.  They are not \\\"profiting\\\" from the virus -- they are g…\",\"lang\":\"en\"},{\"created_at\":\"2020-10-25T23:59:59.000Z\",\"id\":\"1320515483251183616\",\"conversation_id\":\"1320515483251183616\",\"text\":\"RT @Crimsix: I volunteered for vaccine trials Covid-19 in Phoenix, which were made by a Russian Pharmaceutical company. I received my 1st s…\",\"lang\":\"cs\"},{\"created_at\":\"2020-10-25T23:59:59.000Z\",\"id\":\"1320515483163131908\",\"conversation_id\":\"1320515483163131908\",\"text\":\"RT @atrupar: Wow -- Trump pushes a baseless conspiracy theory that US coronavirus deaths are overcounted because \\\"doctors get more money an…\",\"lang\":\"en\"},{\"created_at\":\"2020-10-25T23:59:59.000Z\",\"id\":\"1320515482521346048\",\"conversation_id\":\"1320515482521346048\",\"text\":\"RT @larepublica_pe: Coronavirus: Italia entra en colapso sanitario y cierra cines, teatros, bares y restaurantes \\nhttps://t.co/JlPCT2dCWk\",\"lang\":\"es\"},{\"created_at\":\"2020-10-25T23:59:59.000Z\",\"id\":\"1320515482504581122\",\"conversation_id\":\"1320515482504581122\",\"text\":\"RT @DrTomFrieden: You know what’s inflating Covid numbers? Failure to implement proven strategies to stop the virus from infecting and kill…\",\"lang\":\"en\"},{\"created_at\":\"2020-10-25T23:59:59.000Z\",\"id\":\"1320515482185797634\",\"conversation_id\":\"1320515482185797634\",\"text\":\"listening to fleetwood mac again and i truly appreciate this song as i also want people to \\\"tell me lies, tell me sweet little lies\\\" about the holidays / next year / further re: covid &amp; the state of the world in general https://t.co/mMTrM7dXoM\",\"lang\":\"en\"},{\"created_at\":\"2020-10-25T23:59:59.000Z\",\"id\":\"1320515482093539328\",\"conversation_id\":\"1320515482093539328\",\"text\":\"RT @OsmarTerra: Cientistas de várias Universidades,como Harvard, Oxford e Stanford,que produziram a declaração de Great Barrington(4/10),co…\",\"lang\":\"pt\"},{\"created_at\":\"2020-10-25T23:59:59.000Z\",\"id\":\"1320515481879674882\",\"conversation_id\":\"1320515481879674882\",\"text\":\"RT @kylegriffin1: Mark Meadows admits: \\\"We are not going to control the pandemic.\\\"\\n\\nMeadows refused to answer questions about why Pence con…\",\"lang\":\"en\"},{\"created_at\":\"2020-10-25T23:59:59.000Z\",\"id\":\"1320515481661366272\",\"conversation_id\":\"1320515481661366272\",\"text\":\"RT @Crimsix: I volunteered for vaccine trials Covid-19 in Phoenix, which were made by a Russian Pharmaceutical company. I received my 1st s…\",\"lang\":\"cs\"},{\"created_at\":\"2020-10-25T23:59:59.000Z\",\"id\":\"1320515481573490692\",\"conversation_id\":\"1320515481573490692\",\"text\":\"RT @wolfblitzer: I just checked. While the U.S. and South Korea had their first Covid-19 cases and deaths in February, more than 225,000 Am…\",\"lang\":\"en\"},{\"created_at\":\"2020-10-25T23:59:59.000Z\",\"id\":\"1320515481573404672\",\"conversation_id\":\"1320515481573404672\",\"text\":\"He never says how  - this is the administration that believes in magical thinking... COVID... health care... https://t.co/JCpyWlFD9s\",\"lang\":\"en\"},{\"created_at\":\"2020-10-25T23:59:59.000Z\",\"id\":\"1320515481472802816\",\"conversation_id\":\"1320515481472802816\",\"text\":\"RT @kumailn: I’m sorry. I’m generally a very optimistic person &amp; have fought to keep positive these last few months. But today is hard. We…\",\"lang\":\"en\"},{\"created_at\":\"2020-10-25T23:59:59.000Z\",\"id\":\"1320515481321852931\",\"conversation_id\":\"1320515481321852931\",\"text\":\"RT @ScrumESPN: Un sorteo de capitanes en tiempos de #Covid. \\uD83C\\uDDEB\\uD83C\\uDDF7\\uD83C\\uDFF4\\uDB40\\uDC67\\uDB40\\uDC62\\uDB40\\uDC77\\uDB40\\uDC6C\\uDB40\\uDC73\\uDB40\\uDC7F\\uD83D\\uDE37\\n\\n#RUGBYxESPN https://t.co/2KLoPUa04v\",\"lang\":\"es\"},{\"created_at\":\"2020-10-25T23:59:59.000Z\",\"id\":\"1320515480860397570\",\"conversation_id\":\"1320515480860397570\",\"text\":\"Donald Trump wrong that greater testing is driving coronavirus case load https://t.co/aGAKVbqd86 #60Minutes\",\"lang\":\"en\"},{\"created_at\":\"2020-10-25T23:59:59.000Z\",\"id\":\"1320515480667463682\",\"conversation_id\":\"1320515480667463682\",\"text\":\"RT @JeremySWallace: NEW: Texas is reporting 5,206 lab-confirmed COVID-19 hospitalizations - a 63% increase since Oct. 1 and the highest num…\",\"lang\":\"en\"},{\"created_at\":\"2020-10-25T23:59:59.000Z\",\"id\":\"1320515480654913536\",\"conversation_id\":\"1320515480654913536\",\"text\":\"RT @kerpen: There are now over 7,000 death certificates that list \\\"Intentional and unintentional injury, poisoning and other adverse events…\",\"lang\":\"en\"},{\"created_at\":\"2020-10-25T23:59:59.000Z\",\"id\":\"1320515480466169862\",\"conversation_id\":\"1320515480466169862\",\"text\":\"RT @WSJ: The Trump administration offered Santa Claus performers a deal: promote a Covid-19 vaccine, and they'd get early access to it. The…\",\"lang\":\"en\"},{\"created_at\":\"2020-10-25T23:59:59.000Z\",\"id\":\"1320515479975403522\",\"conversation_id\":\"1320515479975403522\",\"text\":\"RT @NassauWillem: Covid is Just a Flu!\\n\\nhttps://t.co/EkfIqHrbLr\",\"lang\":\"en\"},{\"created_at\":\"2020-10-25T23:59:59.000Z\",\"id\":\"1320515479681859589\",\"conversation_id\":\"1320515479681859589\",\"text\":\"The White House is a COVID-19 cesspool. It will have to be completely cleaned and disinfected before Biden moves in. https://t.co/mkL2DaT0Jy\",\"lang\":\"en\"},{\"created_at\":\"2020-10-25T23:59:58.000Z\",\"id\":\"1320515479618945024\",\"conversation_id\":\"1320515479618945024\",\"text\":\"RT @ToriNicksWho: This is the third warehouse they’ve found in Nigeria full of Covid supplies being hoarded by the government\",\"lang\":\"en\"},{\"created_at\":\"2020-10-25T23:59:58.000Z\",\"id\":\"1320515479534878720\",\"conversation_id\":\"1320515479534878720\",\"text\":\"RT @CorbieCrow: \\uD83D\\uDD25\\n@ProjectLincoln roasts @jaredkushner and @IvankaTrump over billboard lawsuit threat.\\n\\nhttps://t.co/ftqv1ylWDL via @haaret…\",\"lang\":\"en\"},{\"created_at\":\"2020-10-25T23:59:58.000Z\",\"id\":\"1320515479333601280\",\"conversation_id\":\"1320515479333601280\",\"text\":\"I wish the Ignoramus-In-Chief was capable of appreciating real medical expertise!  But, he's a global warning denier and therefore a science denier.  Victims of global warming and/or the Covid-19 Virus will have no use for PROFITS. https://t.co/PCQmwolpJx\",\"lang\":\"en\"},{\"created_at\":\"2020-10-25T23:59:58.000Z\",\"id\":\"1320515479232983041\",\"conversation_id\":\"1320515479232983041\",\"text\":\"Covid Wave https://t.co/srdsjga3LL\",\"lang\":\"en\"},{\"created_at\":\"2020-10-25T23:59:58.000Z\",\"id\":\"1320515479228895236\",\"conversation_id\":\"1320505212084301827\",\"text\":\"@burner_ej @RoundRockTim I think that makes more of an argument for Tim then. \\uD83E\\uDD37‍♂️ \\n\\nBrady steps in  and they immediately become a contender. \\n\\nHe leaves and a competent QB takes his place and they can't win. \\n\\nCOVID aside, I think Brady had a lot to do with the success, just like Belichek has as well.\",\"lang\":\"en\"},{\"created_at\":\"2020-10-25T23:59:58.000Z\",\"id\":\"1320515479182737409\",\"conversation_id\":\"1320515479182737409\",\"text\":\"RT @OsmarTerra: Cientistas de várias Universidades,como Harvard, Oxford e Stanford,que produziram a declaração de Great Barrington(4/10),co…\",\"lang\":\"pt\"},{\"created_at\":\"2020-10-25T23:59:58.000Z\",\"id\":\"1320515479035928576\",\"conversation_id\":\"1320355290169167874\",\"text\":\"@NYGovCuomo Covid facts https://t.co/PME0efc1ih\",\"lang\":\"en\"},{\"created_at\":\"2020-10-25T23:59:58.000Z\",\"id\":\"1320515478494859264\",\"conversation_id\":\"1320515478494859264\",\"text\":\"RT @sazzygram3: As a nurse, I'm freaking livid. Hospitals do NOT get extra money for Covid patients. Doctors &amp; nurses are NOT lying. The ac…\",\"lang\":\"en\"},{\"created_at\":\"2020-10-25T23:59:58.000Z\",\"id\":\"1320515477966258177\",\"conversation_id\":\"1320515477966258177\",\"text\":\"RT @maddow: This is horrifying. \\n\\n“Utah’s hospitals prepare to ration care as a record number of coronavirus patients flood their ICUs” htt…\",\"lang\":\"en\"},{\"created_at\":\"2020-10-25T23:59:58.000Z\",\"id\":\"1320515477903466496\",\"conversation_id\":\"1320498206929752064\",\"text\":\"@TSavastepe @MarZaferdrg @bbcturkce Sep 17, 2020 — Greg Abbott loosens coronavirus restrictions for restaurants and other businesses in most ... who will be trained and then permitted to to go inside a resident' \\n\\nTEXASDA  hal boyle..Eylulde  Texas da tum kisitlamalar\\nGevsetildi....COVA BIR URBAN MASALI\",\"lang\":\"en\"},{\"created_at\":\"2020-10-25T23:59:58.000Z\",\"id\":\"1320515477840560130\",\"conversation_id\":\"1320515477840560130\",\"text\":\"RT @poetWOAgun: @RyanAFournier Biden is leading polls but NO ONE SHOWS to Obama rallies &amp; he doesn’t even campaign…\\nNo politician could eve…\",\"lang\":\"en\"},{\"created_at\":\"2020-10-25T23:59:58.000Z\",\"id\":\"1320515477433655296\",\"conversation_id\":\"1320515477433655296\",\"text\":\"RT @Mision_Verdad: ATENCIÓN: Científicos venezolanos determinaron que la molécula DR10 elimina por completo el virus del Covid-19.\\n\\nAsí lo…\",\"lang\":\"es\"},{\"created_at\":\"2020-10-25T23:59:58.000Z\",\"id\":\"1320515477358006272\",\"conversation_id\":\"1320515477358006272\",\"text\":\"RT @choo_ek: First, @ACEPNow, which represents my specialty of emergency medicine: \\n\\n“ACEP is appalled by President Trump's reckless and fa…\",\"lang\":\"en\"},{\"created_at\":\"2020-10-25T23:59:58.000Z\",\"id\":\"1320515477060440070\",\"conversation_id\":\"1320515477060440070\",\"text\":\"RT @Blake_RESISTS: REALITY!\\n\\n1) U.S. has 4% of the WORLD’s Population ... 20% of ALL #COVID19 DEATHS\\n\\n2) TrumpHasNoPlan\\n\\n3) Trump - TODAY -…\",\"lang\":\"en\"},{\"created_at\":\"2020-10-25T23:59:58.000Z\",\"id\":\"1320515477035274247\",\"conversation_id\":\"1320515477035274247\",\"text\":\"RT @krupali: @DrDenaGrayson Covid full https://t.co/P8DSzzWqyc\",\"lang\":\"en\"},{\"created_at\":\"2020-10-25T23:59:58.000Z\",\"id\":\"1320515476930387968\",\"conversation_id\":\"1320515476930387968\",\"text\":\"RT @ToriNicksWho: This is the third warehouse they’ve found in Nigeria full of Covid supplies being hoarded by the government\",\"lang\":\"en\"},{\"created_at\":\"2020-10-25T23:59:58.000Z\",\"id\":\"1320515476653486081\",\"conversation_id\":\"1320515476653486081\",\"text\":\"RT @nicolergalloway: .@GovParsonMO’s failure to take action on COVID-19 has tanked our economy and cost the lives of thousands of Missouria…\",\"lang\":\"en\"},{\"created_at\":\"2020-10-25T23:59:58.000Z\",\"id\":\"1320515476603060224\",\"conversation_id\":\"1320515476603060224\",\"text\":\"RT @markusoff: A “covid is hoax to embed vaccine chips inside you and change DNA and ‘desterilize’ you” rally at Prince’s Island Park, Calg…\",\"lang\":\"en\"},{\"created_at\":\"2020-10-25T23:59:58.000Z\",\"id\":\"1320515476376539136\",\"conversation_id\":\"1320515476376539136\",\"text\":\"今日ドラフト会議だけど、covidのソレで全然解らないなぁ～。\",\"lang\":\"ja\"},{\"created_at\":\"2020-10-25T23:59:58.000Z\",\"id\":\"1320515476171182080\",\"conversation_id\":\"1320515476171182080\",\"text\":\"RT @Le_Figaro: \\uD83D\\uDD34 Le groupe Facebook «Didier Raoult vs Coronavirus» a été désactivé. Il comptait environ 500.000 membres https://t.co/0eDFyT…\",\"lang\":\"fr\"},{\"created_at\":\"2020-10-25T23:59:58.000Z\",\"id\":\"1320515475504205824\",\"conversation_id\":\"1320515475504205824\",\"text\":\"RT @JaPenWPKL: Sebagai langkah menangani penularan pandemik COVID-19 oleh PATI, OP BENTENG di bawah NTF yang dikoordinasi oleh ATM sebagai…\",\"lang\":\"in\"},{\"created_at\":\"2020-10-25T23:59:57.000Z\",\"id\":\"1320515475420418048\",\"conversation_id\":\"1320515475420418048\",\"text\":\"RT @luiscarrillo66: @NicolasMaduro anuncia que Venezuela desarrolló un fármaco que anula el covid-19 \\\"al 100%\\\" - RT https://t.co/4blDgdThAe…\",\"lang\":\"es\"},{\"created_at\":\"2020-10-25T23:59:57.000Z\",\"id\":\"1320515475256844289\",\"conversation_id\":\"1320515475256844289\",\"text\":\"RT @MarkDice: Flu cases being lumped in with Coronavirus cases to inflate the numbers?   Naw.  They would never do that.\",\"lang\":\"en\"},{\"created_at\":\"2020-10-25T23:59:57.000Z\",\"id\":\"1320515475223314436\",\"conversation_id\":\"1320515475223314436\",\"text\":\"RT @LALewman: @robreiner @ElleEmmaKay Trump doesn't care he escalated the Covid crisis. \\nHe doesn't care he lied. \\nHe doesn't care he wreck…\",\"lang\":\"en\"},{\"created_at\":\"2020-10-25T23:59:57.000Z\",\"id\":\"1320515475223285760\",\"conversation_id\":\"1320515475223285760\",\"text\":\"RT @AdamParkhomenko: Covid cases hitting record high and Republicans are drinking fucking champagne\",\"lang\":\"en\"},{\"created_at\":\"2020-10-25T23:59:57.000Z\",\"id\":\"1320515475101470720\",\"conversation_id\":\"1320515475101470720\",\"text\":\"RT @masaru_kaneko: 【死者が積み上がるだけ】昨日は週末日曜日だが、全国の感染者数が495人。GoToの影響で、北海道は41人、沖縄も31人と多い。そして今日も死者が6人増加。検査数が圧倒的に低く、百万人当たりの死者数は14人になり、中国沿岸部周辺諸国の中では断…\",\"lang\":\"ja\"},{\"created_at\":\"2020-10-25T23:59:57.000Z\",\"id\":\"1320515475005149189\",\"conversation_id\":\"1320515475005149189\",\"text\":\"RT @supitsshekinah: Do people realize that Trump can’t control what each state does to deal with Coronavirus?\",\"lang\":\"en\"},{\"created_at\":\"2020-10-25T23:59:57.000Z\",\"id\":\"1320515474971488256\",\"conversation_id\":\"1320515474971488256\",\"text\":\"RT @MarkDice: Flu cases being lumped in with Coronavirus cases to inflate the numbers?   Naw.  They would never do that.\",\"lang\":\"en\"},{\"created_at\":\"2020-10-25T23:59:57.000Z\",\"id\":\"1320515474753572864\",\"conversation_id\":\"1320515474753572864\",\"text\":\"RT @fred_guttenberg: How do we know that @VP has not already had COVID?  He looked terrible at the debate.  It would explain his current de…\",\"lang\":\"en\"},{\"created_at\":\"2020-10-25T23:59:57.000Z\",\"id\":\"1320515474657103872\",\"conversation_id\":\"1320515474657103872\",\"text\":\"Maduro anuncia que Venezuela desarrolló un fármaco que anula el covid-19 \\\"al 100%\\\" https://t.co/UQAqvTeM0t \\nYa ve, para que sean siempre esclavos es que Macri y Tener eliminaron los respectivos Institutos de invest cientifica\",\"lang\":\"es\"},{\"created_at\":\"2020-10-25T23:59:57.000Z\",\"id\":\"1320515474321510401\",\"conversation_id\":\"1320515474321510401\",\"text\":\"RT @FeizaBM: Macron aurait dû rester focalisé sur le coronavirus. À vouloir se refaire une santé politique sur le dos des musulmans, il n’a…\",\"lang\":\"fr\"},{\"created_at\":\"2020-10-25T23:59:57.000Z\",\"id\":\"1320515473939705856\",\"conversation_id\":\"1320515473939705856\",\"text\":\"RT @JapenSabah: SITUASI PENYAKIT COVID-19 NEGERI SABAH | 25 OKTOBER 2020\\n\\nSUMBER: PENGARAH KESIHATAN NEGERI SABAH \\n\\n#JaPenSabah \\n#COVID19 h…\",\"lang\":\"in\"},{\"created_at\":\"2020-10-25T23:59:57.000Z\",\"id\":\"1320515473830760453\",\"conversation_id\":\"1320515473830760453\",\"text\":\"RT @60Minutes: President Trump says COVID cases are rising because of more testing, but according to the COVID Tracking Project, that doesn…\",\"lang\":\"en\"},{\"created_at\":\"2020-10-25T23:59:57.000Z\",\"id\":\"1320515473797226496\",\"conversation_id\":\"1320515473797226496\",\"text\":\"RT @philousports: Je suis sortie 4 fois depuis mars je suis sous anxiolytiques à cause du stress covid, mais je ferai pas mon gneugneu si o…\",\"lang\":\"fr\"},{\"created_at\":\"2020-10-25T23:59:57.000Z\",\"id\":\"1320515473784487937\",\"conversation_id\":\"1320515473784487937\",\"text\":\"RT @SharonShaman: @ddale8 Showing us again that their COVID plan is the same as their overall health care plan: \\\"Die quickly and quietly.\\\"\",\"lang\":\"en\"},{\"created_at\":\"2020-10-25T23:59:57.000Z\",\"id\":\"1320515473361018880\",\"conversation_id\":\"1320515473361018880\",\"text\":\"RT @BreitbartNews: Chicago uprising! https://t.co/HCAd3CiOEe\",\"lang\":\"en\"},{\"created_at\":\"2020-10-25T23:59:57.000Z\",\"id\":\"1320515473159737347\",\"conversation_id\":\"1320515473159737347\",\"text\":\"RT @atrupar: Wow -- Trump pushes a baseless conspiracy theory that US coronavirus deaths are overcounted because \\\"doctors get more money an…\",\"lang\":\"en\"}],\"meta\":{\"newest_id\":\"1320515483842551808\",\"oldest_id\":\"1320515473159737347\",\"result_count\":58,\"next_token\":\"b26v89c19zqg8o3fosbs53yhem4uuttn5guzl60onnpfh\"}}"
     ]
    }
   ],
   "source": [
    "!curl --request GET 'https://api.twitter.com/2/tweets/search/all?query=(covid%20OR%20coronavirus)&start_time=2020-10-01T00:00:00.00Z&end_time=2020-10-26T00:00:00.00Z&max_results=60&tweet.fields=created_at,lang,conversation_id&user.fields=created_at,entities' --header \"Authorization: Bearer $BEARER_TOKEN\""
   ]
  },
  {
   "cell_type": "markdown",
   "metadata": {},
   "source": [
    "# Using the *searchtweets-v2* client\n",
    "\n",
    "This serves as a wrapper for the Twitter API v2 search endpoints (/search/recent and /search/all), providing a command-line utility and a Python library.\n",
    "\n",
    "Github: https://github.com/twitterdev/search-tweets-python/tree/v2\n",
    "\n",
    "PyPi: https://pypi.org/project/searchtweets-v2/\n",
    "\n",
    "More Docs: https://twitterdev.github.io/search-tweets-python/searchtweets.html"
   ]
  },
  {
   "cell_type": "code",
   "execution_count": 1,
   "metadata": {},
   "outputs": [],
   "source": [
    "from searchtweets import ResultStream, gen_request_parameters, load_credentials, collect_results, convert_utc_time\n",
    "import pandas as pd\n",
    "import numpy as np"
   ]
  },
  {
   "cell_type": "code",
   "execution_count": 2,
   "metadata": {},
   "outputs": [],
   "source": [
    "# For credentials we have 2 options.\n",
    "\n",
    "## Set them up as environmental variables:\n",
    "# os.environ['SEARCHTWEETS_ENDPOINT'] = 'https://api.twitter.com/2/tweets/search/all'\n",
    "# os.environ['SEARCHTWEETS_BEARER_TOKEN'] = 'Bearer Token here'\n",
    "# os.environ['SEARCHTWEETS_CONSUMER_KEY'] = 'API key here'\n",
    "# os.environ['SEARCHTWEETS_CONSUMER_SECRET'] = 'API secret key here'\n",
    "\n",
    "# Set up the .yaml file\n",
    "# Unless env_overwrite = True, anything found in the .yaml file will be overwritten with env variables. \n",
    "credentials = load_credentials('/Volumes/Survey_Social_Media_Compare/Methods/Scripts/Twitter/twitter_keys.yaml', env_overwrite=True);\n",
    "\n",
    "# Make sure ';' at the end of the line so it doesn't print out.\n",
    "# Make sure the .yaml is in .gitignore."
   ]
  },
  {
   "cell_type": "code",
   "execution_count": 3,
   "metadata": {},
   "outputs": [
    {
     "name": "stdout",
     "output_type": "stream",
     "text": [
      "{\"query\": \"jobs\", \"max_results\": 100}\n"
     ]
    }
   ],
   "source": [
    "# A simple query\n",
    "query = gen_request_parameters('jobs', results_per_call = 100)\n",
    "print(query)"
   ]
  },
  {
   "cell_type": "code",
   "execution_count": 4,
   "metadata": {},
   "outputs": [
    {
     "name": "stdout",
     "output_type": "stream",
     "text": [
      "{\"query\": \"jobs\", \"max_results\": 100}\n"
     ]
    }
   ],
   "source": [
    "# A simple query\n",
    "query_x = gen_request_parameters('\"jobs\"', results_per_call = 500)\n",
    "print(query)\n",
    "\n",
    "# 1. collect_results function\n",
    "tweets_x = collect_results(query_x,\n",
    "                          max_tweets = 500,\n",
    "                          result_stream_args = credentials)"
   ]
  },
  {
   "cell_type": "markdown",
   "metadata": {},
   "source": [
    "There are two ways of collecting tweets. Currently not sure whether the difference between the two is important to us. \n",
    "\n",
    "This first one, *collect_results* is a \"quick method to collect smaller amounts of Tweets to memory that requires less thought and knowledge\". The documentation also reads: \"For interactive environments and other cases where you don’t care about collecting your data in a single load or don’t need to operate on the stream of Tweets directly, I recommend using this convenience function.\" I am not sure what \"collecting data in a single load means\".\n",
    "\n",
    "The second one is through the ResultStream object, which will be powered by the search_args, and takes the query and other configuration parameters, including a hard stop on number of pages to limit your API call usage.\n",
    "\n",
    "**The resulting tweets are slightly different with the two searches**\n",
    "\n",
    "For now I will use *collect_results*. It should become clearer whether this is good for the current application or not once I start to use it properly. "
   ]
  },
  {
   "cell_type": "code",
   "execution_count": 1,
   "metadata": {},
   "outputs": [
    {
     "ename": "NameError",
     "evalue": "name 'ResultStream' is not defined",
     "output_type": "error",
     "traceback": [
      "\u001b[0;31m---------------------------------------------------------------------------\u001b[0m",
      "\u001b[0;31mNameError\u001b[0m                                 Traceback (most recent call last)",
      "\u001b[0;32m<ipython-input-1-d1ea882ca802>\u001b[0m in \u001b[0;36m<module>\u001b[0;34m\u001b[0m\n\u001b[1;32m      8\u001b[0m \u001b[0;34m\u001b[0m\u001b[0m\n\u001b[1;32m      9\u001b[0m \u001b[0;31m# 2. Using the ResultStream\u001b[0m\u001b[0;34m\u001b[0m\u001b[0;34m\u001b[0m\u001b[0;34m\u001b[0m\u001b[0m\n\u001b[0;32m---> 10\u001b[0;31m rs = ResultStream(request_parameters=query,\n\u001b[0m\u001b[1;32m     11\u001b[0m                 \u001b[0mmax_pages\u001b[0m\u001b[0;34m=\u001b[0m\u001b[0;36m1\u001b[0m\u001b[0;34m,\u001b[0m\u001b[0;34m\u001b[0m\u001b[0;34m\u001b[0m\u001b[0m\n\u001b[1;32m     12\u001b[0m                 \u001b[0mmax_tweets\u001b[0m\u001b[0;34m=\u001b[0m \u001b[0;36m200\u001b[0m\u001b[0;34m,\u001b[0m\u001b[0;34m\u001b[0m\u001b[0;34m\u001b[0m\u001b[0m\n",
      "\u001b[0;31mNameError\u001b[0m: name 'ResultStream' is not defined"
     ]
    }
   ],
   "source": [
    "# Collecting tweets\n",
    "\n",
    "# # 1. collect_results function\n",
    "# tweets1 = collect_results(query,\n",
    "#                           max_tweets = 200,\n",
    "#                           result_stream_args = credentials)\n",
    "\n",
    "\n",
    "# 2. Using the ResultStream\n",
    "rs = ResultStream(request_parameters=query,\n",
    "                max_pages=1,\n",
    "                max_tweets= 200,\n",
    "                output_format = \"a\",\n",
    "                 **credentials)\n",
    "\n",
    "print(rs)\n",
    "\n",
    "tweets2 = list(rs.stream())\n",
    "\n",
    "\n",
    "# # Print first 10 tweets for both\n",
    "\n",
    "# print(\"collect_results function: \\n\")\n",
    "# for i in tweets1[0:10]:\n",
    "#     print(i['text'],'\\n')\n",
    "    \n",
    "# print(\"\\n\\n\\nResultStream: \\n \")    \n",
    "# for i in tweets2[0:10]:\n",
    "#     print(i['text'],'\\n')\n",
    "\n"
   ]
  },
  {
   "cell_type": "code",
   "execution_count": 33,
   "metadata": {
    "collapsed": true,
    "jupyter": {
     "outputs_hidden": true
    }
   },
   "outputs": [
    {
     "data": {
      "text/plain": [
       "[{'id': '1402310338364780547',\n",
       "  'text': 'RT @POTUS: I’m working hard to find common ground with Republicans when it comes to the American Jobs Plan, but I refuse to raise taxes on…'},\n",
       " {'id': '1402310336926060547',\n",
       "  'text': 'RT @SenSchumer: Women with the same jobs, the same degrees, and same work experience are making less money than their male colleagues.\\n\\nFor…'},\n",
       " {'id': '1402310336141791232',\n",
       "  'text': 'RT @zelorodolffo: se colocar todos os trabalhos que o Rodolffo fez nesse pós bbb em uma lista, tem gente por aí que fica em choque, viu? nã…'},\n",
       " {'id': '1402310335797866508',\n",
       "  'text': 'RT @CharlyMatt: Due anni di esperienza MINIMA per uno stage da segretaria. Prima o poi questa stortura andrà risolta. https://t.co/92mLk7eo…'},\n",
       " {'id': '1402310335609069578',\n",
       "  'text': 'RT @SenSchumer: Women with the same jobs, the same degrees, and same work experience are making less money than their male colleagues.\\n\\nFor…'},\n",
       " {'id': '1402310334753427457',\n",
       "  'text': 'RT @PharmiWebJobs: CRA / SCRA - 4/5 Visits Per Month  - England / Scotland - i-Pharm Consulting #jobs #pharma #hiringnow #pharmiweb https:/…'},\n",
       " {'id': '1402310334514221058',\n",
       "  'text': '@TaxReformExpert Do you think that the automation is done by other robots? Or do you think there are jobs for people to create the automation?'},\n",
       " {'id': '1402310334283718666',\n",
       "  'text': 'RT @RepEspaillat: So, let me get this straight: 40% of jobs in this country pay less than the average unemployment check of $750/week. \\n\\nTh…'},\n",
       " {'id': '1402310334258556937',\n",
       "  'text': 'RT @jarodzsz: i like referring to different jobs i\\'ve had as \"eras\" like i\\'m a popstar instead of just some guy'},\n",
       " {'id': '1402310333327306754',\n",
       "  'text': 'RT @jarodzsz: i like referring to different jobs i\\'ve had as \"eras\" like i\\'m a popstar instead of just some guy'},\n",
       " {'id': '1402310333184856070',\n",
       "  'text': 'Lake City Casino is looking for: Bartender\\nhttps://t.co/i4cR4RKakk #job'},\n",
       " {'id': '1402310331951681536',\n",
       "  'text': '🇨🇬 Opening @WHO \\n \\U0001f7e0 Mid \\n \\nASSISTANT WR \\n \\n 🗓 Exp. in 19 days \\n #unjobs #untalent \\nhttps://t.co/CsArrxNB74'},\n",
       " {'id': '1402310331687264263',\n",
       "  'text': 'Nurse job opportunity!\\nProvidence Health is hiring a Regional Nurse Consultant - Full-Time - KY / OH in Louisville, KY!\\n#NurseJobs #jobs #hiring #LouisvilleKYJobs\\nhttps://t.co/8RLgoXgo6A'},\n",
       " {'id': '1402310331599314948',\n",
       "  'text': 'Nearly a half a million people... now wonder the jobs data sucks... https://t.co/I6sUQl0Wo5'},\n",
       " {'id': '1402310330928316428',\n",
       "  'text': 'RT @DrawingEggen: Communist regime was a life opportunity for small jealous people without talent &amp; education. It gave them the highest &amp; m…'},\n",
       " {'id': '1402310330840064005',\n",
       "  'text': '@jfruh @ItsTheBrandi Also doesn’t address how gig economy jobs trained people not to get paid for performing labor (i.e. drivers not paid while driving to pick up or waiting for next fare, supplying gas and vehicle)'},\n",
       " {'id': '1402310330546593799',\n",
       "  'text': 'RT @jarodzsz: i like referring to different jobs i\\'ve had as \"eras\" like i\\'m a popstar instead of just some guy'},\n",
       " {'id': '1402310329216942081',\n",
       "  'text': 'RT @MahyarTousi: The Left: ex convicts must be embraced by society and given jobs\\n\\nAlso the Left: innocent people who have tweeted rude thi…'},\n",
       " {'id': '1402310328709390337',\n",
       "  'text': \"Want to work at Frederick National Laboratory? We're hiring in Bethesda, MD! Click for details: https://t.co/cwzNbe5mdb #nowhiring #LifeScience\"},\n",
       " {'id': '1402310328319238152',\n",
       "  'text': \"Want to work at Faith Regional? We're Hiring in Norfolk, NE. View our latest openings and Apply Today! #Nebraska #Healthcare https://t.co/5vqopT0TNA\"},\n",
       " {'id': '1402310327086333960',\n",
       "  'text': 'RT @POTUS: I’m working hard to find common ground with Republicans when it comes to the American Jobs Plan, but I refuse to raise taxes on…'},\n",
       " {'id': '1402310325391826951',\n",
       "  'text': 'RT @PharmiWebJobs: QA Officers - Wrexham, Wales - Marketplace Technical #jobs #pharma #hiringnow #pharmiweb https://t.co/DLljszLHAB'},\n",
       " {'id': '1402310325295329280',\n",
       "  'text': 'RT @SenSchumer: Women with the same jobs, the same degrees, and same work experience are making less money than their male colleagues.\\n\\nFor…'},\n",
       " {'id': '1402310325056253952',\n",
       "  'text': 'RT @MahyarTousi: The Left: ex convicts must be embraced by society and given jobs\\n\\nAlso the Left: innocent people who have tweeted rude thi…'},\n",
       " {'id': '1402310320773861378',\n",
       "  'text': 'RT @neeuqeraflew: Employment drug screens should be illegal. They only are used for low income or moderate income jobs. Not once since obta…'},\n",
       " {'id': '1402310316147580939',\n",
       "  'text': 'RT @PharmiWebJobs: Senior Safety Physician - Cardiometabolism - Germany (DE) - Barrington James #jobs #pharma #hiringnow #pharmiweb https:/…'},\n",
       " {'id': '1402310315954561028',\n",
       "  'text': 'Join Pakistan Navy As Civilian Latest Jobs 2021\\n\\nhttps://t.co/FO0yCQylxF\\n\\n#Loki #Binance #Binance #internetdown #BreakingNews #Bitcoin #jobfairy #Jobs #jobsearch #Pakistan',\n",
       "  'withheld': {'copyright': False, 'country_codes': ['IN']}},\n",
       " {'id': '1402310315090579457',\n",
       "  'text': 'RT @OutdoorArtsPRO: The team @TinShedTheatre is looking for a visual artist with experience in bespoke outdoor installation design for #Big…'},\n",
       " {'id': '1402310314213924866',\n",
       "  'text': \"@TrophyCasee @GoodsJeremy @CarolineYLChen B/c Trump's tax plan actually ended up giving most of the tax breaks to the ultra-wealthy. Here's how:\\n- The rich own a bunch of stock.\\n- Corporations used their tax breaks to buy back stock (instead of creating new jobs).\\n- This drove stock prices up, making rich people richer.\"},\n",
       " {'id': '1402310311961575430',\n",
       "  'text': '@AndrewFeinberg @CNN @RudyGiuliani @JoeBiden This is a GOOD thing!\\n\\nGod knows lapdogs at CNN are never going to do their jobs and investigate t hem.'},\n",
       " {'id': '1402310310766145544',\n",
       "  'text': 'Attention Marketing Experts! Dare Foods Limited is hiring for an Assistant Brand Manager -Innovation in Cambridge, ON. https://t.co/OYdSnPyT4P #DareFoods #AssistantBrandManagerInnovation #Cambridge #CPG #ConsumerGoods #FMCG #FastMovingConsumerGoods #Retail #Jobs #CPGConnectJobs https://t.co/WKw2fMT7Ny'},\n",
       " {'id': '1402310309818343430',\n",
       "  'text': \"@mtgreenee Paying pple to stay home proved that jobs can pay more to those who are working. Don't blame those who were able to stay home during a pandemic &amp; cover their family expenses. Those who continued to work, yet barely able to make a living should demand higher pay. It's way overdue.\"},\n",
       " {'id': '1402310309369552906',\n",
       "  'text': 'RT @neeuqeraflew: Employment drug screens should be illegal. They only are used for low income or moderate income jobs. Not once since obta…'},\n",
       " {'id': '1402310308861923329',\n",
       "  'text': 'https://t.co/JW9nDgvHWK\\n\\nCareer, Courses and Jobs in Oceanography\\n\\n#career #jobs #courses  #Oceanography #'},\n",
       " {'id': '1402310306395672578',\n",
       "  'text': 'RT @PamKeithFL: 79% of WV supports the For the People Act.\\n\\n80% support Biden’s Infrastructure and jobs plans.\\n\\nSo.... who is Manchin “repr…'},\n",
       " {'id': '1402310305514983424',\n",
       "  'text': 'RT @PamKeithFL: 79% of WV supports the For the People Act.\\n\\n80% support Biden’s Infrastructure and jobs plans.\\n\\nSo.... who is Manchin “repr…'},\n",
       " {'id': '1402310301916168198',\n",
       "  'text': 'RT @itslizzbravo: Until someone runs a fanbase. You will never know how hard it is to run one.  You have to fundraise. Tweet nonstop. Retwe…'},\n",
       " {'id': '1402310300515422213',\n",
       "  'text': \"RT @danielmarven: Don't wanna see my kids walking around with CV's looking for jobs.\\n\\nThey will work and have steak in family company. http…\"},\n",
       " {'id': '1402310300049702915',\n",
       "  'text': 'RT @__valerieann: “They have stolen the entire retirement of an entire generation.”\\n\\n“It’s impairing the United States and families and mar…'},\n",
       " {'id': '1402310299722596357',\n",
       "  'text': 'RT @PharmiWebJobs: Senior Recruitment Consultants  - Homeworking - Paramount Recruitment #jobs #pharma #hiringnow #pharmiweb https://t.co/e…'},\n",
       " {'id': '1402310299580047361',\n",
       "  'text': 'RT @zelorodolffo: se colocar todos os trabalhos que o Rodolffo fez nesse pós bbb em uma lista, tem gente por aí que fica em choque, viu? nã…'},\n",
       " {'id': '1402310299563212808',\n",
       "  'text': 'RT @POTUS: I’m working hard to find common ground with Republicans when it comes to the American Jobs Plan, but I refuse to raise taxes on…'},\n",
       " {'id': '1402310298506350595',\n",
       "  'text': '@_ShamGod And the working class learns to idolize this type of evasion. There’s a black finance pod I sometimes check out whenever I can stomach it (Earn Your Leisure). On IG they praised Amazon paying $0 in taxes as “one of the best accounting jobs in American history.”\\n\\nIt’s sick shit.'},\n",
       " {'id': '1402310298476838913',\n",
       "  'text': 'RT @ukshahi: The Modi Govt via IOC will invest ₹24,000 Crore to set up 6 Petrochemical Projects around Vadodara, creating 25000 jobs.\\nProje…'},\n",
       " {'id': '1402310297793220613',\n",
       "  'text': 'RT @Nick_at_Nite89: Counterfeit money can get regular people LITERALLY killed by police 🚔.  Yet, Hedgefunds and prime brokers can generate…'},\n",
       " {'id': '1402310297264836614',\n",
       "  'text': 'RT @jarodzsz: i like referring to different jobs i\\'ve had as \"eras\" like i\\'m a popstar instead of just some guy'},\n",
       " {'id': '1402310293800239110',\n",
       "  'text': 'RT @jarodzsz: i like referring to different jobs i\\'ve had as \"eras\" like i\\'m a popstar instead of just some guy'},\n",
       " {'id': '1402310293276049409',\n",
       "  'text': '@Yamiche This is a GOOD thing!\\n\\nGod knows lapdogs at CNN are never going to do their jobs and investigate t hem.'},\n",
       " {'id': '1402310291925393409',\n",
       "  'text': 'RT @PharmiWebJobs: Executive Search Consultants  - Homeworking - Paramount Recruitment #jobs #pharma #hiringnow #pharmiweb https://t.co/JE7…'},\n",
       " {'id': '1402310288297414658',\n",
       "  'text': 'Hotel And Restaurant Workers Are Quitting Their Jobs At The Fastest Pace On Record\\nhttps://t.co/noincDpSBa'},\n",
       " {'id': '1402310288200904705',\n",
       "  'text': '🇺🇬 Opening @WHO \\n \\U0001f7e0 Mid \\n \\nNATIONAL PROFESSIONAL OFFICER (TUBERCULOSIS) \\n \\n 🗓 Exp. in 20 days \\n #unjobs #untalent \\nhttps://t.co/WAsAlixraE'},\n",
       " {'id': '1402310287320043523',\n",
       "  'text': '@DPJHodges spot on and its their job, Tory ministers should stick to trying to do their own jobs'},\n",
       " {'id': '1402310286967595009',\n",
       "  'text': 'Liberal Be like :Modi is stealing Jobs from Pakistan..... Modi should Resign... 🤣🤣🤣 https://t.co/WizBuhWPKG'},\n",
       " {'id': '1402310286002987009',\n",
       "  'text': 'RT @TheDemCoalition: FACTS: Structural racism pushes workers of color into underpaid jobs. Because workers of color are disproportionately…'},\n",
       " {'id': '1402310285851992068',\n",
       "  'text': 'Interested in a job in Assistant Route Service Sales Representative (4-Day Workweek)? This could be a great fit https://t.co/SHH9A9GRLv #cintasjobs'},\n",
       " {'id': '1402310285747097601',\n",
       "  'text': 'RT @PamKeithFL: 79% of WV supports the For the People Act.\\n\\n80% support Biden’s Infrastructure and jobs plans.\\n\\nSo.... who is Manchin “repr…'},\n",
       " {'id': '1402310285545938946',\n",
       "  'text': \"I ask this with no judgement intended: why, in the age of the internet, are so many writing jobs still not able to be remote? Is it a time zones thing? Taxes, maybe? I'm trying to understand and learn.\"},\n",
       " {'id': '1402310285491331078',\n",
       "  'text': 'Crazy how people said that people complaining about minimum wage should just find better paying jobs and then people do that and now you’re salty you can’t get your Crunchwrap supreme at 12am. You can’t have it both ways'},\n",
       " {'id': '1402310285256503305',\n",
       "  'text': 'RT @neeuqeraflew: Employment drug screens should be illegal. They only are used for low income or moderate income jobs. Not once since obta…'},\n",
       " {'id': '1402310283100573700',\n",
       "  'text': 'RT @PharmiWebJobs: Executive Search Consultants  - Homeworking - Paramount Recruitment #jobs #pharma #hiringnow #pharmiweb https://t.co/58J…'},\n",
       " {'id': '1402310277748510720',\n",
       "  'text': 'RT @neeuqeraflew: Employment drug screens should be illegal. They only are used for low income or moderate income jobs. Not once since obta…'},\n",
       " {'id': '1402310277501124610',\n",
       "  'text': 'RT @latimes: The pandemic caused many to lose their jobs and thus their employer-sponsored insurance when it mattered most.\\n\\n@jcahealy writ…'},\n",
       " {'id': '1402310277253718021',\n",
       "  'text': 'RT @WhiteHouse: The first Energy Earthshot on clean hydrogen, seeks to reduce the cost of clean hydrogen by 80% to $1 per kilogram in one d…'},\n",
       " {'id': '1402310274489761799',\n",
       "  'text': 'RT @PharmiWebJobs: Freelance Senior Clinical Project Manager - Europe - 1 .0 FTE - France - i-Pharm Consulting https://t.co/HoqTvr5f8j'},\n",
       " {'id': '1402310274460258305',\n",
       "  'text': 'RT @POTUS: I’m working hard to find common ground with Republicans when it comes to the American Jobs Plan, but I refuse to raise taxes on…'},\n",
       " {'id': '1402310273734565891',\n",
       "  'text': '@latimes Actors have the toughest jobs.'},\n",
       " {'id': '1402310272962809862',\n",
       "  'text': 'RT @RobynUrback: I am a broken record, but if federal leaders are actually genuine about wanting to tackle Islamophobia in Canada, they mig…'},\n",
       " {'id': '1402310269339119622',\n",
       "  'text': 'RT @SenSchumer: Women with the same jobs, the same degrees, and same work experience are making less money than their male colleagues.\\n\\nFor…'},\n",
       " {'id': '1402310267329994754',\n",
       "  'text': 'RT @ClayTravis: There are now 9.3 million open jobs in America. The most ever. Yet employers can’t fill them because many people are still…'},\n",
       " {'id': '1402310266503770127',\n",
       "  'text': 'RT @Marthalanefox: This is my dream job. I’d apply but I *think* I have enough jobs… but you could… 😎'},\n",
       " {'id': '1402310265874653195',\n",
       "  'text': 'RT @neeuqeraflew: Employment drug screens should be illegal. They only are used for low income or moderate income jobs. Not once since obta…'},\n",
       " {'id': '1402310263970439172',\n",
       "  'text': 'RT @de_rt_com: Alles erreicht, alles gesehen?\\nEin neuer TV-Sender sucht Dich als\\nRedaktionsleiter/in.\\nhttps://t.co/bIlG8dB8Ss https://t.co/…'},\n",
       " {'id': '1402310262414249984',\n",
       "  'text': 'RT @PharmiWebJobs: Senior Chemist - Kent, England - Marketplace Technical #jobs #pharma #hiringnow #pharmiweb https://t.co/XZ9ouxDcnu'},\n",
       " {'id': '1402310259624976386',\n",
       "  'text': 'RT @AdamRutherford: Aged 58: decides that space projects are nothing but vanity and toys for billionaires, so pays his taxes and devotes hi…'},\n",
       " {'id': '1402310259507712005',\n",
       "  'text': \"RT @business: And now here's another headache for businesses trying to hire. https://t.co/HfUiqWY87M\"},\n",
       " {'id': '1402310259209818112',\n",
       "  'text': 'RT @PamKeithFL: 79% of WV supports the For the People Act.\\n\\n80% support Biden’s Infrastructure and jobs plans.\\n\\nSo.... who is Manchin “repr…'},\n",
       " {'id': '1402310256294825987',\n",
       "  'text': \"RT @ChristoThurston: Clover is closing down South Africa's largest cheese factory in Lichtenburg, North West, blaming 'ongoing poor service…\"},\n",
       " {'id': '1402310255992885259',\n",
       "  'text': '管理No.35 #中国語 #求人 #中国 #台湾 #転職 #求職\\nURL☞https://t.co/Lzvgs6eQwC\\n✨ソフトウェアのテスト\\u3000QA\\u3000エンジニア 中国語話者✨\\n詳細はお気軽にお問い合わせください！ https://t.co/VeKp9Gr8es https://t.co/XCbpQDlYj4'},\n",
       " {'id': '1402310255392874500',\n",
       "  'text': 'RT @JoyousPanther: @LPNH Conservatives: people are asking for too much money to accept a job. Cut unemployment benefits!\\n\\nLibertarians: Hav…'},\n",
       " {'id': '1402310253996396549',\n",
       "  'text': 'RT @jarodzsz: i like referring to different jobs i\\'ve had as \"eras\" like i\\'m a popstar instead of just some guy'},\n",
       " {'id': '1402310253987905545',\n",
       "  'text': 'RT @PharmiWebJobs: Lead Chemist - England, Kent - Marketplace Technical #jobs #pharma #hiringnow #pharmiweb https://t.co/imfAgRCMY6'},\n",
       " {'id': '1402310253161566211',\n",
       "  'text': 'RT @PamKeithFL: 79% of WV supports the For the People Act.\\n\\n80% support Biden’s Infrastructure and jobs plans.\\n\\nSo.... who is Manchin “repr…'},\n",
       " {'id': '1402310252935233540',\n",
       "  'text': \"RT @tomiahonen: Obama and Trump\\n\\nthe Economy:\\n\\nIn Obama's last 4 years before Trump, economy ADDED 10.3 million new jobs\\n\\nIn Trump's first…\"},\n",
       " {'id': '1402310252641632256',\n",
       "  'text': 'RT @GermanTechJobs: Want to stay in your cosy home-office? \\n \\nWaltz Binaire is hiring for the DevOps Engineer (Berlin/Remote) role\\n \\n⚙️ Tec…'},\n",
       " {'id': '1402310249147604993',\n",
       "  'text': \"@ClayTravis Give their jobs to the migrants, that'll get them back to work.\"},\n",
       " {'id': '1402310249122570241',\n",
       "  'text': 'RT @JonErlichman: Apple lost $1 billion in 1997.\\n \\nSteve Jobs returned to the company and spoke at WWDC.\\n\\nWhen an audience member insulted…'},\n",
       " {'id': '1402310248937922564',\n",
       "  'text': 'RT @RightToZeroCA: Freight communities labeled as ‘diesel death zones’ suffer the worst burden of CA’s dirty diesel truck pollution. @AirRe…'},\n",
       " {'id': '1402310248459800578',\n",
       "  'text': 'RT @TeresaM51981532: What do you know, people do not want to rush back to poverty wage jobs..huh...stunner... https://t.co/t3VnqIuldc'},\n",
       " {'id': '1402310247876792326',\n",
       "  'text': 'https://t.co/iksIPpRqWF https://t.co/4CDB2MnrfL'},\n",
       " {'id': '1402310247289692163',\n",
       "  'text': 'RT @neeuqeraflew: Employment drug screens should be illegal. They only are used for low income or moderate income jobs. Not once since obta…'},\n",
       " {'id': '1402310247277023240',\n",
       "  'text': '📺 118 frases de Steve Jobs: sus reflexiones sobre éxito, futuro, dinero, diseño… https://t.co/yC2duQ9Yhr'},\n",
       " {'id': '1402310245523808258',\n",
       "  'text': 'RT @PharmiWebJobs: Sterility Assurance Officer - England, Hertfordshire, Borehamwood - Marketplace Technical https://t.co/Lp5RiXAzrI'},\n",
       " {'id': '1402310244542283777',\n",
       "  'text': 'Can you recommend anyone for this job? Fabrication Dept. - https://t.co/8jbqrQFlgq #Fresno, CA'},\n",
       " {'id': '1402310244475285509',\n",
       "  'text': '@andTheVoidStar1 @StrathearnScott @MobRules2020 @piersmorgan Trump conspiracy nut jobs would believe that, living in Parler'},\n",
       " {'id': '1402310244206788614',\n",
       "  'text': 'Opening @WHO \\n \\U0001f7e0 Mid \\n \\nTECHNICAL OFFICER (SCIENCE COUNCIL SECRETARIAT) \\n \\n 🗓 Exp. in 13 days \\n #unjobs #untalent \\nhttps://t.co/3SfnHR05IY'},\n",
       " {'id': '1402310244005335040',\n",
       "  'text': \"Want to work at Thermo Fisher Scientific? We're hiring in Boston, MA! Click for details: https://t.co/uxaZo6JXFE #Sales #Beantown\"},\n",
       " {'id': '1402310243783086080',\n",
       "  'text': 'If jobs with titles like \"IAM-Information Security Analyst I - Los Angeles, California\" sound appealing to you, follow us to hear about these types of opportunities in #LosAngeles, CA. #Banking'},\n",
       " {'id': '1402310243737030662',\n",
       "  'text': 'RT @neeuqeraflew: Employment drug screens should be illegal. They only are used for low income or moderate income jobs. Not once since obta…'},\n",
       " {'id': '1402310243422400513',\n",
       "  'text': 'Stop staring at the clock every day. It\\'s time for a new career. Follow us to view jobs with titles like \"Vehicle Preparation Representative (Fueler/Washer/Detailer)\" in Essex, VT. #gopenskecareers #Automotive'},\n",
       " {'id': '1402310242457686020',\n",
       "  'text': 'RT @SenSchumer: Women with the same jobs, the same degrees, and same work experience are making less money than their male colleagues.\\n\\nFor…'},\n",
       " {'newest_id': '1402310338364780547',\n",
       "  'oldest_id': '1402310242457686020',\n",
       "  'result_count': 100,\n",
       "  'next_token': 'b26v89c19zqg8o3fpdg7rbcqdqgiehnr0mx5vt2if5enx'},\n",
       " {'id': '1402310241992183808',\n",
       "  'text': \"First job didn't pay much but she did start learning to be good at jobs she didn't like w/ Edna Keep https://t.co/kUUcogVgUT #podcast https://t.co/B9K2E9opPo\"},\n",
       " {'id': '1402310241811849222',\n",
       "  'text': '@ryangrim @TheBlahDalia Jobs for the boys!'},\n",
       " {'id': '1402310238901096448',\n",
       "  'text': '@ohheymarianna Coming over here taking our jobs 😂😂😘😘'},\n",
       " {'id': '1402310237080674308',\n",
       "  'text': 'RT @WorldBankKenya: TVET has the potential to improve employability, productivity, and livelihoods of young workers in developing countries…'},\n",
       " {'id': '1402310236950519812',\n",
       "  'text': 'the fact that everywhere i went ppl weren’t trying to do their jobs that they get paid for like,,,, money center walmart just hire another person ur run by billionaires wtf 💀💀💀 they had one cashier and he tried to tell me he couldn’t do netspend cash upload lmao'},\n",
       " {'id': '1402310236120170498',\n",
       "  'text': 'RT @PharmiWebJobs: Marketing Analyst - Belgium - Achieva Group Ltd #jobs #pharma #hiringnow #pharmiweb https://t.co/bmctQax4OH'},\n",
       " {'id': '1402310235457568770',\n",
       "  'text': 'RT @jarodzsz: i like referring to different jobs i\\'ve had as \"eras\" like i\\'m a popstar instead of just some guy'},\n",
       " {'id': '1402310234106966019',\n",
       "  'text': 'RT @SenSchumer: Women with the same jobs, the same degrees, and same work experience are making less money than their male colleagues.\\n\\nFor…'},\n",
       " {'id': '1402310232554958851',\n",
       "  'text': 'RT @GermanTechJobs: Want to stay in your cosy home-office? \\n \\nWaltz Binaire is hiring for the DevOps Engineer (Berlin/Remote) role\\n \\n⚙️ Tec…'},\n",
       " {'id': '1402310231745466371',\n",
       "  'text': 'RT @WHCOS: Jobs up.  Covid cases down.  Voters say:\\n\\nhttps://t.co/YDt4JckAif'},\n",
       " {'id': '1402310228528570374',\n",
       "  'text': 'We are #hiring Forklift Operator 11434 in Birmingham, AL https://t.co/r5GCfV4RSv #jobs #Birmingham'},\n",
       " {'id': '1402310227723055106',\n",
       "  'text': 'RT @POTUS: I’m working hard to find common ground with Republicans when it comes to the American Jobs Plan, but I refuse to raise taxes on…'},\n",
       " {'id': '1402310224325849089',\n",
       "  'text': 'RT @POTUS: I’m working hard to find common ground with Republicans when it comes to the American Jobs Plan, but I refuse to raise taxes on…'},\n",
       " {'id': '1402310224036438018',\n",
       "  'text': 'A growing gap between available workers and job openings has triggered a debate over whether pandemic-related unemployment benefits are keeping people from taking jobs. Here is what you need to know. https://t.co/Xli95qKXKK https://t.co/Lipcnmf8fI'},\n",
       " {'id': '1402310223549943818',\n",
       "  'text': 'RT @PharmiWebJobs: Senior CTMA (remote-based) - England, Hayes, London - Hobson Prior #jobs #pharma #hiringnow #pharmiweb https://t.co/vO2Y…'},\n",
       " {'id': '1402310222664794114',\n",
       "  'text': '@TheJusticeDept Your jobs are to prosecute criminals, not defend them. We are five months into expecting a return to justice for all. https://t.co/j6jMYfCwUl'},\n",
       " {'id': '1402310221574426632',\n",
       "  'text': 'RT @No_Bikers: \"Sturgeon spent an eye watering £1.2 Million on private cars last year, during a global pandemic that seen many Scots lose t…'},\n",
       " {'id': '1402310221503078402',\n",
       "  'text': 'RT @bundesrat: Interesse an einem Job im #Bundesrat in #Berlin? Für die Ausschussbüros suchen wir zum nächstmöglichen Zeitpunkt mehrere Bür…'},\n",
       " {'id': '1402310216281051139',\n",
       "  'text': 'RT @jarodzsz: i like referring to different jobs i\\'ve had as \"eras\" like i\\'m a popstar instead of just some guy'},\n",
       " {'id': '1402310215911890946',\n",
       "  'text': 'RT @Paru33071070: 💝@top_management0😿\\n🏁It was a short time, but \\n  thank you💃➰💯\\nBusy and above all ⌒*jobs\\n Do your best⌒*💝Topｻﾝ\\n🔱Do your bes…'},\n",
       " {'id': '1402310210752946176',\n",
       "  'text': 'RT @POTUS: I’m working hard to find common ground with Republicans when it comes to the American Jobs Plan, but I refuse to raise taxes on…'},\n",
       " {'id': '1402310210044272642',\n",
       "  'text': 'RT @RobynUrback: I am a broken record, but if federal leaders are actually genuine about wanting to tackle Islamophobia in Canada, they mig…'},\n",
       " {'id': '1402310210027458568',\n",
       "  'text': 'New #job: PMO Analyst Location: Sunderland .. https://t.co/3IVWjVambc #jobs #hiring'},\n",
       " {'id': '1402310209381470208',\n",
       "  'text': 'Want to stay in your cosy home-office? \\n \\nWaltz Binaire is hiring for the DevOps Engineer (Berlin/Remote) role\\n \\n⚙️ Technologies: #3D #AWS #Cloud #TypeScript #NodeJS #Java\\n \\nTake your chance: https://t.co/zBjbfdhFvU\\n \\n#Remote #WorkFromHome #GermanTechJobs'},\n",
       " {'id': '1402310209352122371',\n",
       "  'text': 'Are you a Senior Engineer? \\n \\nELCA Informatik AG is hiring a Microsoft 365 / SharePoint Specialist\\n \\n⚙️ Tech stack: #Angular #Azure #React #SharePoint #Cloud #CSharp\\n \\nApply on: https://t.co/iM02yVVNc6\\n \\n#Jobs #Developers #SwissDevJobs'},\n",
       " {'id': '1402310208614027271',\n",
       "  'text': '@babyboymonaghan I figured out as a young teen that my mother had never truly had to work. I was probably a few years older than that when I realized that my dads were in pairings where they had worked very hard but had been given jobs straight out of high school that would never exist again.'},\n",
       " {'id': '1402310208475463687',\n",
       "  'text': \"RT @EricMGarcia: The reason we don't see home and community-based services as infrastructure is we often don't see services for disabled pe…\"},\n",
       " {'id': '1402310207913537537',\n",
       "  'text': 'RT @PharmiWebJobs: Senior Recruitment Consultants - West Midlands, England, Birmingham - Paramount Recruitment https://t.co/HMGedibUqK'},\n",
       " {'id': '1402310204704890883',\n",
       "  'text': 'RT @SteveMatthews12: Per this morning’s JOLTS report, 5.6% of workers in the accommodation and food-services industry quit their job in Apr…'},\n",
       " {'id': '1402310202871844866',\n",
       "  'text': 'See our latest #RueilMalmaison, IDF job and click to apply: CRA II, PARIS - https://t.co/3fDxAOMGEf #Healthcare'},\n",
       " {'id': '1402310201936519169',\n",
       "  'text': 'Can you recommend anyone for this job in Dallas, TX? https://t.co/6UZZWgEOZf #DieselMechanics #SkilledTrade'},\n",
       " {'id': '1402310200665780235',\n",
       "  'text': 'FLOAT Boston is hiring! We need a new Float Operator to begin immediately. If you know someone who would be a great fit for our friendly team, please share our job listing. \\nhttps://t.co/POQpwwzCmG\\n#somervillema #wellnessjobs #hiringboston https://t.co/2uH6CKiK6m'},\n",
       " {'id': '1402310198803501071',\n",
       "  'text': 'RT @PharmiWebJobs: QMS Manager - England, Hertfordshire - Marketplace Technical #jobs #pharma #hiringnow #pharmiweb https://t.co/NCSjBeoy8N'},\n",
       " {'id': '1402310198308577281',\n",
       "  'text': \"RT @KCLBHI: We're hiring! Two new #clinicaltrial #statistician to work with @DrBenCarter @KimberleyGol and colleagues @KCTU_MH_Stats @KCLCT…\"},\n",
       " {'id': '1402310197599604746',\n",
       "  'text': 'RT @sondesix: Another fun fact:\\n\\nSteve Jobs also wanted Sony laptops to run OS X back then (yes, that OS, exclusively for Apple and Sony).…'},\n",
       " {'id': '1402310196349784066',\n",
       "  'text': 'RT @ChadwickWiz: Jobs!?\\n\\nThe government ONLY confiscates wealth, it never creates it!'},\n",
       " {'id': '1402310194261024771',\n",
       "  'text': 'RT @RobynUrback: I am a broken record, but if federal leaders are actually genuine about wanting to tackle Islamophobia in Canada, they mig…'},\n",
       " {'id': '1402310193900257282',\n",
       "  'text': 'We are looking for software engineers to come work with us on #XcodeCloud. Applications from members in historically underrepresented groups are encouraged. DMs open. #wwdc21 https://t.co/GbDYMbbodS'},\n",
       " {'id': '1402310192629534729',\n",
       "  'text': '@LayahHeilpern People &amp; jobs! Live your life! You only get one!'},\n",
       " {'id': '1402310192188989441',\n",
       "  'text': 'RT @UNTalentJobs: 🇩🇰 Opening @UNDP \\n \\U0001f7e1 Entry \\n \\nBUSINESS OPERATIONS ANALYST \\n \\n 🗓 Exp. in 20 days \\n #unjobs #untalent \\nhttps://t.co/9MiWYE8…'},\n",
       " {'id': '1402310190729474048',\n",
       "  'text': \"RT @Sheios_Mukiga: There's a group of thugs that has come up in Kampala claiming to give jobs to graduates to work in boutiques, salary of…\"},\n",
       " {'id': '1402310189638991873',\n",
       "  'text': 'RT @PharmiWebJobs: CSV Engineer - Runcorn, Cheshire, England - Marketplace Technical #jobs #pharma #hiringnow #pharmiweb https://t.co/fF3BZ…'},\n",
       " {'id': '1402310189622124553',\n",
       "  'text': 'RT @WhiteHouse: The first Energy Earthshot on clean hydrogen, seeks to reduce the cost of clean hydrogen by 80% to $1 per kilogram in one d…'},\n",
       " {'id': '1402310186266775557',\n",
       "  'text': \"RT @WisconsinUnion: Can't stand when you have to leave the Terrace to go work? Don't leave; work with us at the Wisconsin Union and never b…\"},\n",
       " {'id': '1402310185230770179',\n",
       "  'text': 'RT @mhdksafa: What we learned in 2020? That oil is worthless in a society without consumption. That healthcare has to be public because hea…'},\n",
       " {'id': '1402310184857313280',\n",
       "  'text': '@ValaAfshar @coolfunnytshirt But letting jio giving free service for two years destroyed many tele companies\\nTelecom minister backstabbed the economy in 2015-2017 by not regulating proper price and stoping jio free cookie.\\nIt caused loss of jobs, loss of 20,000-50,000 crore to the economy'},\n",
       " {'id': '1402310184114917377',\n",
       "  'text': 'why do we have to do office jobs instead of dedicating our lives to try and be this guy \\n\\nhttps://t.co/NwfpsEins9'},\n",
       " {'id': '1402310184043679744',\n",
       "  'text': 'RT @SenateDems: “The decisions we make as a Congress will determine the very future of this nation.”\\n\\n“Now is the time to put our people ba…'},\n",
       " {'id': '1402310183628378115',\n",
       "  'text': 'RT @SenSchumer: Women with the same jobs, the same degrees, and same work experience are making less money than their male colleagues.\\n\\nFor…'},\n",
       " {'id': '1402310180818280451',\n",
       "  'text': 'RT @PharmiWebJobs: Shift Manager - Cheshire, England, Runcorn - Marketplace Technical #jobs #pharma #hiringnow #pharmiweb https://t.co/3Axy…'},\n",
       " {'id': '1402310180734443521',\n",
       "  'text': 'RT @silkys13: We are growing our team at @DetentionWatch and have six (!!) open positions: organizing, comms, digital, development, policy.…'},\n",
       " {'id': '1402310180411351045',\n",
       "  'text': 'RT @DanielTurnerPTF: Today is Monday, June 7, 2021.\\n\\nThe \"green jobs\" Joe Biden promised oil and gas workers are still nowhere to be found.'},\n",
       " {'id': '1402310177068445701',\n",
       "  'text': 'RT @MohsinBilal457: Central Taxes on petrol-diesel were ₹52,000 cr in 2013. They will be more than ₹3,00,000 cr this year. This draconian t…'},\n",
       " {'id': '1402310176619651075',\n",
       "  'text': 'After July I’m am hustling and grinding, if that means 2 jobs, then so be it!!!'},\n",
       " {'id': '1402310176032559105',\n",
       "  'text': 'RT @POTUS: I’m working hard to find common ground with Republicans when it comes to the American Jobs Plan, but I refuse to raise taxes on…'},\n",
       " {'id': '1402310175730671619',\n",
       "  'text': 'RT @SenSchumer: Women with the same jobs, the same degrees, and same work experience are making less money than their male colleagues.\\n\\nFor…'},\n",
       " {'id': '1402310172794449921',\n",
       "  'text': 'JR0169383 System Validation Engineer; Folsom, CA.: https://t.co/Zu0jSagdJC #IamIntel #silicon #cpu #validation #debug #bios #software #hardware #firmware #soc #postsilicon #postsi #fuctionalvalidation #systemlevel #python #platformlevel #powermanagement #…https://t.co/VVu57YXE91'},\n",
       " {'id': '1402310171691474950',\n",
       "  'text': 'RT @PharmiWebJobs: CRA I /CRA II / SCRA - UK Wide  - Scotland / England - i-Pharm Consulting #jobs #pharma #hiringnow #pharmiweb https://t.…'},\n",
       " {'id': '1402310170626113540',\n",
       "  'text': 'RT @RobynUrback: I am a broken record, but if federal leaders are actually genuine about wanting to tackle Islamophobia in Canada, they mig…'},\n",
       " {'id': '1402310169153970179',\n",
       "  'text': 'RT @BenLesh: Thinking about the Nigerian government blocking Twitter: They have no idea that Nigerians were making serious headway getting…'},\n",
       " {'id': '1402310168755515399',\n",
       "  'text': 'RT @ProperWhopper: This is horrible. Please spread it as far and as wide as you can. There should be no pity for these particular officers.…'},\n",
       " {'id': '1402310167123959823',\n",
       "  'text': 'RT @SenSchumer: Women with the same jobs, the same degrees, and same work experience are making less money than their male colleagues.\\n\\nFor…'},\n",
       " {'id': '1402310166020829187',\n",
       "  'text': 'RT @JeffJenkinsMN: Mylan workers rally outside capitol, call for Justice to do more to save their jobs - WV MetroNews https://t.co/1QbWnz88…'},\n",
       " {'id': '1402310165576175618',\n",
       "  'text': '@CTVNews People are getting spoiled...they should be happy they have a job...working remotely 100% can cause jobs to be outsourced eventually.'},\n",
       " {'id': '1402310162929623041',\n",
       "  'text': 'RT @neeuqeraflew: Employment drug screens should be illegal. They only are used for low income or moderate income jobs. Not once since obta…'},\n",
       " {'id': '1402310162245951491',\n",
       "  'text': 'Husband unable to come on holiday without doing ‘jobs’. He brought overalls and his toolbox. This week he’s repainting the cottage sign. Apparently tomorrow the gold paint will be skilfully applied to the letters. https://t.co/U6kEQWmzhn'},\n",
       " {'id': '1402310161969057798',\n",
       "  'text': 'RT @Zac_Petkanas: This would allow millions of good paying jobs to go to China.'},\n",
       " {'id': '1402310161683857408',\n",
       "  'text': 'New #job: Aircraft Leasing Company Secretary Location: Kildare Salary: .. health insurance, pension, bonus .. https://t.co/HveuyQszk0 #jobs #hiring'},\n",
       " {'id': '1402310160769445888',\n",
       "  'text': 'Want to work in #Wyoming, MI? View our latest opening: https://t.co/UZsntXDjCu #Labor'},\n",
       " {'id': '1402310160765403137',\n",
       "  'text': 'RT @WarwickHunt4: See how they almost completely privatised the housing market... with private tenants paying up to half their income in re…'},\n",
       " {'id': '1402310160031391747',\n",
       "  'text': \"RT @MencapCymru: We're advertising for a new Family Support Co-ordinator to work on Ynys Mon. It’s a 3-year pilot project working in partne…\"},\n",
       " {'id': '1402310159821512706',\n",
       "  'text': 'Interested in a job in London, ON, Canada? This could be a great fit: https://t.co/LxmPuvzBDU #goals #growwithus'},\n",
       " {'id': '1402310159456604161',\n",
       "  'text': 'RT @neeuqeraflew: Employment drug screens should be illegal. They only are used for low income or moderate income jobs. Not once since obta…'},\n",
       " {'id': '1402310159288848389',\n",
       "  'text': 'RT @neeuqeraflew: Employment drug screens should be illegal. They only are used for low income or moderate income jobs. Not once since obta…'},\n",
       " {'id': '1402310158672437252',\n",
       "  'text': 'RT @PharmiWebJobs: In House Recruiter - Guildford, England, Surrey - Marketplace Technical #jobs #pharma #hiringnow #pharmiweb https://t.co…'},\n",
       " {'id': '1402310158420787200',\n",
       "  'text': 'Per this morning’s JOLTS report, 5.6% of workers in the accommodation and food-services industry quit their job in April, up from 5.4% last month. This is record territory. https://t.co/SVj7N8e8yF via @TheStalwart @economics https://t.co/UhpNoFYl7V'},\n",
       " {'id': '1402310158299000834',\n",
       "  'text': 'RT @SenateDems: “The decisions we make as a Congress will determine the very future of this nation.”\\n\\n“Now is the time to put our people ba…'},\n",
       " {'id': '1402310157426741255',\n",
       "  'text': 'RT @BLFSouthAfrica: Save the 300 000 youth jobs!!! \\n\\nDear EAs and GAs please note a report back meeting on the Presidential Youth Employmen…'},\n",
       " {'id': '1402310155493163013',\n",
       "  'text': 'RT @neeuqeraflew: Employment drug screens should be illegal. They only are used for low income or moderate income jobs. Not once since obta…'},\n",
       " {'id': '1402310155316965377',\n",
       "  'text': '@EmmGifts @RealKiraDavis Requirements to show ID are fairly standard everywhere for everyone in every country. There is no lack of access nor is it race based. In order drive a car, prove citizenship, purchase a home, get most jobs, enter government buildings one must have ID.'},\n",
       " {'id': '1402310154847232002',\n",
       "  'text': 'RT @anyotherleader: @johnmcdonnellMP @LabGrassroots Labour should be screaming about this stuff to let everyone know that the idea the Tori…'},\n",
       " {'id': '1402310154444541958',\n",
       "  'text': 'RT @SenSchumer: Public housing is infrastructure!\\n\\nProud to stand with @SenGianaris, Bishop @MitchellGTaylor, @KBainNYC, &amp; public housing a…'},\n",
       " {'id': '1402310152842264579',\n",
       "  'text': 'RT @GOPChairwoman: Reminder: In the last two months, 834,000 fewer jobs were created than economists expected.\\n \\nBiden is squandering the e…'},\n",
       " {'id': '1402310152544468998',\n",
       "  'text': \"@themaxburns @HawleyMO The point also being that it costs money to pay people to do their jobs right. This money is often times saved in a penny wise pound foolish way to may quarterly profits. This works well enough short term until the inevitable happens and the system starts to fail. Then it's pain!\"},\n",
       " {'id': '1402310151365922819',\n",
       "  'text': 'RT @RobynUrback: I am a broken record, but if federal leaders are actually genuine about wanting to tackle Islamophobia in Canada, they mig…'},\n",
       " {'id': '1402310149017120772',\n",
       "  'text': 'RT @PharmiWebJobs: Validation Manager - Runcorn, Cheshire, England - Marketplace Technical #jobs #pharma #hiringnow #pharmiweb https://t.co…'},\n",
       " {'id': '1402310147905576967',\n",
       "  'text': 'RT @GingerGano: While Americans suffered, Biden canceled the Keystone Pipeline destroying 11,000 jobs and gas prices are skyrocketing! Who…'},\n",
       " {'id': '1402310146823438340',\n",
       "  'text': \"RT @_theghettomonk: This framing of denazification dont take into account that in 1957 77% of the\\xa0German Ministry of Justice's senior offic…\"},\n",
       " {'id': '1402310146274041861',\n",
       "  'text': 'Front Desk ( Seasonal Spring/Summer 2021 - Eldorado Resort) - Argus Hospitality Group - https://t.co/zEqBenqWa1 #bctourism #hiring #jobs'},\n",
       " {'id': '1402310146064269312', 'text': 'Yung Miami really ate jobs mv up!'},\n",
       " {'id': '1402310145636405251',\n",
       "  'text': 'RT @PamKeithFL: 79% of WV supports the For the People Act.\\n\\n80% support Biden’s Infrastructure and jobs plans.\\n\\nSo.... who is Manchin “repr…'},\n",
       " {'id': '1402310144730533889',\n",
       "  'text': 'RT @SenSchumer: Women with the same jobs, the same degrees, and same work experience are making less money than their male colleagues.\\n\\nFor…'},\n",
       " {'id': '1402310144017453056',\n",
       "  'text': 'RT @POTUS: I’m working hard to find common ground with Republicans when it comes to the American Jobs Plan, but I refuse to raise taxes on…'},\n",
       " {'id': '1402310143203758084',\n",
       "  'text': 'RT @zelorodolffo: se colocar todos os trabalhos que o Rodolffo fez nesse pós bbb em uma lista, tem gente por aí que fica em choque, viu? nã…'},\n",
       " {'id': '1402310142855614469',\n",
       "  'text': 'RT @mdeperno: Let’s make the elected Michigan Republicans in the House and Senate do their jobs. Over 3,000 affidavits sent to Senators Shi…'},\n",
       " {'id': '1402310141198934021',\n",
       "  'text': 'RT @POTUS: I’m working hard to find common ground with Republicans when it comes to the American Jobs Plan, but I refuse to raise taxes on…'},\n",
       " {'id': '1402310140745994246',\n",
       "  'text': 'RT @amyklobuchar: America needs new highways, safer bridges, and better access to broadband. We can rebuild this country and create good-pa…'},\n",
       " {'id': '1402310140347420672',\n",
       "  'text': 'RT @PharmiWebJobs: QA Officer - Runcorn, Cheshire, England - Marketplace Technical #jobs #pharma #hiringnow #pharmiweb https://t.co/oXoxLVf…'},\n",
       " {'id': '1402310139722534919',\n",
       "  'text': 'RT @onlinegirlie: if any1 could sh@re this / give when ur able i would rly appreciate the help as im still waiting on funds to come in from…'},\n",
       " {'id': '1402310139630211083',\n",
       "  'text': '@DeesideDon I’ve no doubt it’s probably true. I’ve heard before of people being over qualified for jobs. And ain’t no way I’m going to be a cleaner I’ve got no interest in it'},\n",
       " {'newest_id': '1402310241992183808',\n",
       "  'oldest_id': '1402310139630211083',\n",
       "  'result_count': 100,\n",
       "  'next_token': 'b26v89c19zqg8o3fpdg7rbcqdq8stpgmibslekg3kxail'}]"
      ]
     },
     "execution_count": 33,
     "metadata": {},
     "output_type": "execute_result"
    }
   ],
   "source": [
    "tweets2"
   ]
  },
  {
   "cell_type": "code",
   "execution_count": 32,
   "metadata": {},
   "outputs": [
    {
     "data": {
      "text/plain": [
       "{'newest_id': '1402310241992183808',\n",
       " 'oldest_id': '1402310139630211083',\n",
       " 'result_count': 100,\n",
       " 'next_token': 'b26v89c19zqg8o3fpdg7rbcqdq8stpgmibslekg3kxail'}"
      ]
     },
     "execution_count": 32,
     "metadata": {},
     "output_type": "execute_result"
    }
   ],
   "source": [
    "tweets2[-1]"
   ]
  },
  {
   "cell_type": "code",
   "execution_count": 56,
   "metadata": {},
   "outputs": [],
   "source": [
    "# Compare overlap between the two\n",
    "allIDs1 = [tweets1[i]['id'] for i in range(len(tweets1)-3)]\n",
    "allIDs2 = [tweets2[i]['id'] for i in range(len(tweets2)-3)]"
   ]
  },
  {
   "cell_type": "code",
   "execution_count": 27,
   "metadata": {},
   "outputs": [
    {
     "data": {
      "text/plain": [
       "198"
      ]
     },
     "execution_count": 27,
     "metadata": {},
     "output_type": "execute_result"
    }
   ],
   "source": [
    "matchingIDs = list(set(allIDs1) & set(allIDs2))\n",
    "len(matchingIDs)"
   ]
  },
  {
   "cell_type": "markdown",
   "metadata": {},
   "source": [
    "## Building queries using gen_request_parameters"
   ]
  },
  {
   "cell_type": "code",
   "execution_count": 7,
   "metadata": {},
   "outputs": [
    {
     "name": "stdout",
     "output_type": "stream",
     "text": [
      "{\"query\": \"\\\"jobs\\\" -is:retweet place_country:US lang:en\", \"max_results\": 100, \"start_time\": \"2020-10-23T00:00:00Z\", \"end_time\": \"2020-10-26T00:00:00Z\", \"tweet.fields\": \"id,created_at,text,public_metrics\"}\n"
     ]
    }
   ],
   "source": [
    "# The *convert_utc_time* might need to be imported.\n",
    "from_time = '2020-10-23'\n",
    "to_time = '2020-10-26'\n",
    "\n",
    "query2 = gen_request_parameters('\\\"jobs\\\" -is:retweet place_country:US lang:en', # search term \"jobs\"; tweets which are not a retweet; limited to US; language english\n",
    "                                start_time = from_time, # from\n",
    "                                end_time = to_time,\n",
    "                               tweet_fields=\"id,created_at,text,public_metrics\",\n",
    "                               results_per_call = 100) # to\n",
    "print(query2)"
   ]
  },
  {
   "cell_type": "code",
   "execution_count": 25,
   "metadata": {},
   "outputs": [
    {
     "name": "stderr",
     "output_type": "stream",
     "text": [
      " HTTP Error code: 429: {\"title\":\"Too Many Requests\",\"type\":\"about:blank\",\"status\":429,\"detail\":\"Too Many Requests\"} | Too Many Requests\n",
      " Request payload: {'query': 'jobs -is:retweet place_country:US lang:en', 'max_results': 100, 'start_time': '2020-10-23T00:00:00Z', 'end_time': '2020-10-26T00:00:00Z', 'tweet.fields': 'id,created_at,text,public_metrics', 'next_token': 'b26v89c19zqg8o3fosbs51vjs8vu5o6cmz5zd8jowssql'}\n",
      "Rate limit hit... Will retry...\n",
      "Will retry in 4 seconds...\n"
     ]
    }
   ],
   "source": [
    "tweets3 = collect_results(query2,\n",
    "                         max_tweets = 200,\n",
    "                         result_stream_args = credentials)"
   ]
  },
  {
   "cell_type": "code",
   "execution_count": 27,
   "metadata": {},
   "outputs": [
    {
     "data": {
      "text/plain": [
       "203"
      ]
     },
     "execution_count": 27,
     "metadata": {},
     "output_type": "execute_result"
    }
   ],
   "source": []
  },
  {
   "cell_type": "code",
   "execution_count": null,
   "metadata": {},
   "outputs": [],
   "source": [
    "## Saving results to dataframe."
   ]
  },
  {
   "cell_type": "code",
   "execution_count": 84,
   "metadata": {},
   "outputs": [
    {
     "data": {
      "text/html": [
       "<div>\n",
       "<style scoped>\n",
       "    .dataframe tbody tr th:only-of-type {\n",
       "        vertical-align: middle;\n",
       "    }\n",
       "\n",
       "    .dataframe tbody tr th {\n",
       "        vertical-align: top;\n",
       "    }\n",
       "\n",
       "    .dataframe thead th {\n",
       "        text-align: right;\n",
       "    }\n",
       "</style>\n",
       "<table border=\"1\" class=\"dataframe\">\n",
       "  <thead>\n",
       "    <tr style=\"text-align: right;\">\n",
       "      <th></th>\n",
       "      <th>created_at</th>\n",
       "      <th>text</th>\n",
       "      <th>id</th>\n",
       "      <th>public_metrics.retweet_count</th>\n",
       "      <th>public_metrics.reply_count</th>\n",
       "      <th>public_metrics.like_count</th>\n",
       "      <th>public_metrics.quote_count</th>\n",
       "    </tr>\n",
       "  </thead>\n",
       "  <tbody>\n",
       "    <tr>\n",
       "      <th>0</th>\n",
       "      <td>2020-10-25T23:59:23.000Z</td>\n",
       "      <td>@Gregt041 @SeanHouse90 @WPTV Let me get this s...</td>\n",
       "      <td>1320515328955293703</td>\n",
       "      <td>0</td>\n",
       "      <td>2</td>\n",
       "      <td>0</td>\n",
       "      <td>0</td>\n",
       "    </tr>\n",
       "    <tr>\n",
       "      <th>1</th>\n",
       "      <td>2020-10-25T23:58:50.000Z</td>\n",
       "      <td>@patrickbetdavid China/Jobs</td>\n",
       "      <td>1320515190572666882</td>\n",
       "      <td>0</td>\n",
       "      <td>0</td>\n",
       "      <td>0</td>\n",
       "      <td>0</td>\n",
       "    </tr>\n",
       "    <tr>\n",
       "      <th>2</th>\n",
       "      <td>2020-10-25T23:57:10.000Z</td>\n",
       "      <td>How I did my last fore jobs these 6 months wit...</td>\n",
       "      <td>1320514772975132672</td>\n",
       "      <td>0</td>\n",
       "      <td>0</td>\n",
       "      <td>0</td>\n",
       "      <td>0</td>\n",
       "    </tr>\n",
       "    <tr>\n",
       "      <th>3</th>\n",
       "      <td>2020-10-25T23:55:22.000Z</td>\n",
       "      <td>We’re looking for a talented Restaurant Manage...</td>\n",
       "      <td>1320514318778052608</td>\n",
       "      <td>1</td>\n",
       "      <td>0</td>\n",
       "      <td>0</td>\n",
       "      <td>0</td>\n",
       "    </tr>\n",
       "    <tr>\n",
       "      <th>4</th>\n",
       "      <td>2020-10-25T23:53:28.000Z</td>\n",
       "      <td>Was @GovWhitmer in on purchase of @HennigesCon...</td>\n",
       "      <td>1320513842644979712</td>\n",
       "      <td>0</td>\n",
       "      <td>0</td>\n",
       "      <td>0</td>\n",
       "      <td>0</td>\n",
       "    </tr>\n",
       "    <tr>\n",
       "      <th>...</th>\n",
       "      <td>...</td>\n",
       "      <td>...</td>\n",
       "      <td>...</td>\n",
       "      <td>...</td>\n",
       "      <td>...</td>\n",
       "      <td>...</td>\n",
       "      <td>...</td>\n",
       "    </tr>\n",
       "    <tr>\n",
       "      <th>195</th>\n",
       "      <td>2020-10-25T18:05:36.000Z</td>\n",
       "      <td>@SpeakerPelosi Need to get with the people nee...</td>\n",
       "      <td>1320426297580015617</td>\n",
       "      <td>0</td>\n",
       "      <td>0</td>\n",
       "      <td>0</td>\n",
       "      <td>0</td>\n",
       "    </tr>\n",
       "    <tr>\n",
       "      <th>196</th>\n",
       "      <td>2020-10-25T18:03:13.000Z</td>\n",
       "      <td>@melissarobbins_ Yes, I’ve started using it du...</td>\n",
       "      <td>1320425696913743872</td>\n",
       "      <td>0</td>\n",
       "      <td>0</td>\n",
       "      <td>1</td>\n",
       "      <td>0</td>\n",
       "    </tr>\n",
       "    <tr>\n",
       "      <th>197</th>\n",
       "      <td>2020-10-25T18:02:59.000Z</td>\n",
       "      <td>this play calling by jets OC just shows how ba...</td>\n",
       "      <td>1320425638130552836</td>\n",
       "      <td>0</td>\n",
       "      <td>0</td>\n",
       "      <td>2</td>\n",
       "      <td>0</td>\n",
       "    </tr>\n",
       "    <tr>\n",
       "      <th>198</th>\n",
       "      <td>2020-10-25T18:02:24.000Z</td>\n",
       "      <td>@PurpleGimp There must be a reason for that.  ...</td>\n",
       "      <td>1320425491468222464</td>\n",
       "      <td>0</td>\n",
       "      <td>0</td>\n",
       "      <td>0</td>\n",
       "      <td>0</td>\n",
       "    </tr>\n",
       "    <tr>\n",
       "      <th>199</th>\n",
       "      <td>2020-10-25T17:59:03.000Z</td>\n",
       "      <td>Alabama y’all vote @LauraCaseyALPSC \\nThe PSC ...</td>\n",
       "      <td>1320424651089203205</td>\n",
       "      <td>33</td>\n",
       "      <td>0</td>\n",
       "      <td>44</td>\n",
       "      <td>3</td>\n",
       "    </tr>\n",
       "  </tbody>\n",
       "</table>\n",
       "<p>200 rows × 7 columns</p>\n",
       "</div>"
      ],
      "text/plain": [
       "                   created_at  \\\n",
       "0    2020-10-25T23:59:23.000Z   \n",
       "1    2020-10-25T23:58:50.000Z   \n",
       "2    2020-10-25T23:57:10.000Z   \n",
       "3    2020-10-25T23:55:22.000Z   \n",
       "4    2020-10-25T23:53:28.000Z   \n",
       "..                        ...   \n",
       "195  2020-10-25T18:05:36.000Z   \n",
       "196  2020-10-25T18:03:13.000Z   \n",
       "197  2020-10-25T18:02:59.000Z   \n",
       "198  2020-10-25T18:02:24.000Z   \n",
       "199  2020-10-25T17:59:03.000Z   \n",
       "\n",
       "                                                  text                   id  \\\n",
       "0    @Gregt041 @SeanHouse90 @WPTV Let me get this s...  1320515328955293703   \n",
       "1                          @patrickbetdavid China/Jobs  1320515190572666882   \n",
       "2    How I did my last fore jobs these 6 months wit...  1320514772975132672   \n",
       "3    We’re looking for a talented Restaurant Manage...  1320514318778052608   \n",
       "4    Was @GovWhitmer in on purchase of @HennigesCon...  1320513842644979712   \n",
       "..                                                 ...                  ...   \n",
       "195  @SpeakerPelosi Need to get with the people nee...  1320426297580015617   \n",
       "196  @melissarobbins_ Yes, I’ve started using it du...  1320425696913743872   \n",
       "197  this play calling by jets OC just shows how ba...  1320425638130552836   \n",
       "198  @PurpleGimp There must be a reason for that.  ...  1320425491468222464   \n",
       "199  Alabama y’all vote @LauraCaseyALPSC \\nThe PSC ...  1320424651089203205   \n",
       "\n",
       "     public_metrics.retweet_count  public_metrics.reply_count  \\\n",
       "0                               0                           2   \n",
       "1                               0                           0   \n",
       "2                               0                           0   \n",
       "3                               1                           0   \n",
       "4                               0                           0   \n",
       "..                            ...                         ...   \n",
       "195                             0                           0   \n",
       "196                             0                           0   \n",
       "197                             0                           0   \n",
       "198                             0                           0   \n",
       "199                            33                           0   \n",
       "\n",
       "     public_metrics.like_count  public_metrics.quote_count  \n",
       "0                            0                           0  \n",
       "1                            0                           0  \n",
       "2                            0                           0  \n",
       "3                            0                           0  \n",
       "4                            0                           0  \n",
       "..                         ...                         ...  \n",
       "195                          0                           0  \n",
       "196                          1                           0  \n",
       "197                          2                           0  \n",
       "198                          0                           0  \n",
       "199                         44                           3  \n",
       "\n",
       "[200 rows x 7 columns]"
      ]
     },
     "execution_count": 84,
     "metadata": {},
     "output_type": "execute_result"
    }
   ],
   "source": [
    "# Saving to dataframe\n",
    "tweets3_df = pd.json_normalize(tweets3[:-1])\n",
    "tweets3_df"
   ]
  },
  {
   "cell_type": "code",
   "execution_count": 86,
   "metadata": {},
   "outputs": [
    {
     "data": {
      "text/plain": [
       "33"
      ]
     },
     "execution_count": 86,
     "metadata": {},
     "output_type": "execute_result"
    }
   ],
   "source": [
    "max(tweets3_df['public_metrics.retweet_count'])"
   ]
  },
  {
   "cell_type": "code",
   "execution_count": null,
   "metadata": {},
   "outputs": [],
   "source": []
  }
 ],
 "metadata": {
  "kernelspec": {
   "display_name": "twitterSearch",
   "language": "python",
   "name": "twittersearch"
  },
  "language_info": {
   "codemirror_mode": {
    "name": "ipython",
    "version": 3
   },
   "file_extension": ".py",
   "mimetype": "text/x-python",
   "name": "python",
   "nbconvert_exporter": "python",
   "pygments_lexer": "ipython3",
   "version": "3.7.10"
  }
 },
 "nbformat": 4,
 "nbformat_minor": 4
}
